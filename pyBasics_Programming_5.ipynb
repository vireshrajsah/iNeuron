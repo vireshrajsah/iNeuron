{
 "cells": [
  {
   "cell_type": "markdown",
   "id": "e39b2f36-d684-4463-936e-f7a146b7d420",
   "metadata": {},
   "source": [
    "1. Write a Python Program to Find LCM?\n",
    "2. Write a Python Program to Find HCF?\n",
    "3. Write a Python Program to Convert Decimal to Binary, Octal and Hexadecimal?\n",
    "4. Write a Python Program To Find ASCII value of a character?\n",
    "5. Write a Python Program to Make a Simple Calculator"
   ]
  },
  {
   "cell_type": "code",
   "execution_count": 1,
   "id": "aa44b193-22d3-4178-bbea-a77ca0145c80",
   "metadata": {},
   "outputs": [
    {
     "name": "stdout",
     "output_type": "stream",
     "text": [
      "The LCM of 12 and 16 is 48\n"
     ]
    }
   ],
   "source": [
    "# 1\n",
    "def gcd(a, b):\n",
    "    if(b == 0):\n",
    "        return a\n",
    "    else:\n",
    "        return gcd(b, a % b)\n",
    "  \n",
    "def lcm(a, b):\n",
    "    return (a*b)//gcd(a,b)\n",
    "\n",
    "num1 = 12\n",
    "num2 = 16\n",
    "\n",
    "print(\"The LCM of\", num1, \"and\", num2, \"is\", lcm(num1, num2))"
   ]
  },
  {
   "cell_type": "code",
   "execution_count": 2,
   "id": "6948cb92-d89c-430c-bb95-99fd94c88072",
   "metadata": {},
   "outputs": [
    {
     "name": "stdout",
     "output_type": "stream",
     "text": [
      "The HCF of 24 and 36 is 12\n"
     ]
    }
   ],
   "source": [
    "# 2\n",
    "def hcf(a, b):\n",
    "    if b == 0:\n",
    "        return a\n",
    "    else:\n",
    "        return hcf(b, a % b)\n",
    "\n",
    "num1 = 24\n",
    "num2 = 36\n",
    "\n",
    "print(\"The HCF of\", num1, \"and\", num2, \"is\", hcf(num1, num2))"
   ]
  },
  {
   "cell_type": "code",
   "execution_count": 35,
   "id": "0b152274-ea8d-4d9e-92ac-1bedf11ebbf3",
   "metadata": {},
   "outputs": [
    {
     "name": "stdin",
     "output_type": "stream",
     "text": [
      "Enter a decimal number:  157\n"
     ]
    },
    {
     "name": "stdout",
     "output_type": "stream",
     "text": [
      "The binary equivalent is: 10011101\n",
      "The octal equivalent is: 235\n",
      "The hexadecimal equivalent is: 9D\n"
     ]
    }
   ],
   "source": [
    "# 3\n",
    "def to_binary(dec):\n",
    "    binary = \"\"\n",
    "    while dec > 0:\n",
    "        binary = str(dec % 2) + binary\n",
    "        dec = dec // 2\n",
    "    return binary\n",
    "\n",
    "def to_octal(dec):\n",
    "    octal = \"\"\n",
    "    while dec > 0:\n",
    "        octal = str(dec % 8) + octal\n",
    "        dec = dec // 8\n",
    "    return octal\n",
    "\n",
    "def to_hexadecimal(dec):\n",
    "    hex_digits = \"0123456789ABCDEF\"\n",
    "    remainder_stack = []\n",
    "    while dec > 0:\n",
    "        remainder = dec % 16\n",
    "        remainder_stack.append(hex_digits[remainder])\n",
    "        dec //= 16\n",
    "    hexadecimal_num = \"\"\n",
    "    while remainder_stack:\n",
    "        hexadecimal_num += remainder_stack.pop()\n",
    "    return hexadecimal_num\n",
    "\n",
    "dec = int(input(\"Enter a decimal number: \"))\n",
    "print(\"The binary equivalent is:\", to_binary(dec))\n",
    "print(\"The octal equivalent is:\", to_octal(dec))\n",
    "print(\"The hexadecimal equivalent is:\", to_hexadecimal(dec))"
   ]
  },
  {
   "cell_type": "code",
   "execution_count": 36,
   "id": "3d03a52c-8689-4397-a573-5ee843cfdef1",
   "metadata": {},
   "outputs": [
    {
     "name": "stdin",
     "output_type": "stream",
     "text": [
      "Enter a decimal number:  157\n"
     ]
    },
    {
     "name": "stdout",
     "output_type": "stream",
     "text": [
      "The binary equivalent is: 10011101\n",
      "The octal equivalent is: 235\n",
      "The hexadecimal equivalent is: 9D\n"
     ]
    }
   ],
   "source": [
    "# 3 Alternative\n",
    "dec = int(input(\"Enter a decimal number: \"))\n",
    "print(\"The binary equivalent is:\", bin(dec)[2:])\n",
    "print(\"The octal equivalent is:\", oct(dec)[2:])\n",
    "print(\"The hexadecimal equivalent is:\", hex(dec)[2:].upper())"
   ]
  },
  {
   "cell_type": "code",
   "execution_count": 17,
   "id": "2a987de7-81d2-457f-bb52-bb7ad1b15ca0",
   "metadata": {},
   "outputs": [
    {
     "name": "stdout",
     "output_type": "stream",
     "text": [
      "ASCII of \"a\" is:  97\n"
     ]
    }
   ],
   "source": [
    "# 4\n",
    "c= 'a'\n",
    "print(f'ASCII of \"{c}\" is: ', ord(c))"
   ]
  },
  {
   "cell_type": "code",
   "execution_count": 38,
   "id": "4a2bd703-678e-4d82-be83-68a6ee29c465",
   "metadata": {},
   "outputs": [
    {
     "name": "stdin",
     "output_type": "stream",
     "text": [
      "Enter num1:  23\n",
      "Enter num2:  78\n",
      "Enter operator (+, -, *, /):  *\n"
     ]
    },
    {
     "name": "stdout",
     "output_type": "stream",
     "text": [
      "23 * 78 = 1794\n"
     ]
    }
   ],
   "source": [
    "# 5\n",
    "def calculate(a,b,op):\n",
    "    if op=='+':\n",
    "        return a+b\n",
    "    elif op=='-':\n",
    "        return a-b\n",
    "    elif op=='*':\n",
    "        return a*b\n",
    "    elif op=='/':\n",
    "        return a/b\n",
    "\n",
    "num1 = int(input('Enter num1: '))\n",
    "num2 = int(input('Enter num2: '))\n",
    "op = input('Enter operator (+, -, *, /): ')\n",
    "print (f'{num1} {op} {num2} = {calculate(num1, num2, op)}')"
   ]
  }
 ],
 "metadata": {
  "kernelspec": {
   "display_name": "Python 3 (ipykernel)",
   "language": "python",
   "name": "python3"
  },
  "language_info": {
   "codemirror_mode": {
    "name": "ipython",
    "version": 3
   },
   "file_extension": ".py",
   "mimetype": "text/x-python",
   "name": "python",
   "nbconvert_exporter": "python",
   "pygments_lexer": "ipython3",
   "version": "3.10.6"
  }
 },
 "nbformat": 4,
 "nbformat_minor": 5
}
