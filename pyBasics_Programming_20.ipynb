{
 "cells": [
  {
   "cell_type": "markdown",
   "id": "71017b06-8e46-4fa3-abdf-0823f26e99dd",
   "metadata": {},
   "source": [
    "Question1: Create a function that takes a list of strings and integers, and filters out the list so that it returns a list of integers only.\n",
    "\n",
    "Examples\n",
    "\n",
    "    filter_list([1, 2, 3, \"a\", \"b\", 4]) ➞ [1, 2, 3, 4]\n",
    "    filter_list([\"A\", 0, \"Edabit\", 1729, \"Python\", \"1729\"]) ➞ [0, 1729]\n",
    "    filter_list([\"Nothing\", \"here\"]) ➞ []"
   ]
  },
  {
   "cell_type": "code",
   "execution_count": 5,
   "id": "8bc8b8c7-a50d-4554-9665-5f59259da143",
   "metadata": {},
   "outputs": [
    {
     "data": {
      "text/plain": [
       "[1, 2, 123]"
      ]
     },
     "execution_count": 5,
     "metadata": {},
     "output_type": "execute_result"
    }
   ],
   "source": [
    "def filter_list(l:list):\n",
    "    return [int(i) for i in l if type(i)!=str or i.isnumeric()]\n",
    "\n",
    "filter_list([1, 2, \"123\", \"b\"])"
   ]
  },
  {
   "cell_type": "markdown",
   "id": "efd3201d-b703-4f0c-8d2d-147325088d55",
   "metadata": {},
   "source": [
    "Question2: Given a list of numbers, create a function which returns the list but with each element's index in the list added to itself. This means you add 0 to the number at index 0, add 1 to the number at index 1, etc...\n",
    "\n",
    "Examples:\n",
    "\n",
    "    add_indexes([0, 0, 0, 0, 0]) ➞ [0, 1, 2, 3, 4]\n",
    "    add_indexes([1, 2, 3, 4, 5]) ➞ [1, 3, 5, 7, 9]\n",
    "    add_indexes([5, 4, 3, 2, 1]) ➞ [5, 5, 5, 5, 5]"
   ]
  },
  {
   "cell_type": "code",
   "execution_count": 7,
   "id": "cc8a633e-b620-477a-8da3-3dbba09e95bb",
   "metadata": {},
   "outputs": [
    {
     "data": {
      "text/plain": [
       "[1, 4, 7, 7, 11, 14]"
      ]
     },
     "execution_count": 7,
     "metadata": {},
     "output_type": "execute_result"
    }
   ],
   "source": [
    "def indadd(l:list):\n",
    "    return [i+n for n, i in enumerate(l)]\n",
    "\n",
    "indadd([1,3,5,4,7,9])"
   ]
  },
  {
   "cell_type": "markdown",
   "id": "d59de57d-8f96-4590-a71b-f34ddbaea73a",
   "metadata": {},
   "source": [
    "Question3: Create a function that takes the height and radius of a cone as arguments and returns the volume of the cone rounded to the nearest hundredth. See the resources tab for the formula.\n",
    "\n",
    "Examples\n",
    "\n",
    "    cone_volume(3, 2) ➞ 12.57\n",
    "    cone_volume(15, 6) ➞ 565.49\n",
    "    cone_volume(18, 0) ➞ 0"
   ]
  },
  {
   "cell_type": "code",
   "execution_count": 8,
   "id": "b9fd696d-8a58-48fa-8812-8c0a852cb650",
   "metadata": {},
   "outputs": [
    {
     "data": {
      "text/plain": [
       "12.57"
      ]
     },
     "execution_count": 8,
     "metadata": {},
     "output_type": "execute_result"
    }
   ],
   "source": [
    "def conevol(h:int, r:int)->int:\n",
    "    return round((1/3) * (22/7) * (r**2) * h,2)\n",
    "\n",
    "conevol(3,2)"
   ]
  },
  {
   "cell_type": "markdown",
   "id": "50554d53-0ef7-4b1b-ab3f-7e912cfc9ac8",
   "metadata": {},
   "source": [
    "Question4: This Triangular Number Sequence is generated from a pattern of dots that form a triangle. \n",
    "\n",
    "The first 5 numbers of the sequence, or dots, are:\n",
    "\n",
    "    1, 3, 6, 10, 15\n",
    "    \n",
    "This means that the first triangle has just one dot, the second one has three dots, the third one has 6 dots and so on. Write a function that gives the number of dots with its corresponding triangle number of the sequence.\n",
    "\n",
    "Examples\n",
    "\n",
    "    triangle(1) ➞ 1\n",
    "    triangle(6) ➞ 21\n",
    "    triangle(215) ➞ 23220"
   ]
  },
  {
   "cell_type": "code",
   "execution_count": 9,
   "id": "43635142-b198-46b7-8a3f-b4bd48165dd2",
   "metadata": {},
   "outputs": [
    {
     "data": {
      "text/plain": [
       "21.0"
      ]
     },
     "execution_count": 9,
     "metadata": {},
     "output_type": "execute_result"
    }
   ],
   "source": [
    "def triangle(n:int):\n",
    "    return (n * (n+1)) / 2\n",
    "triangle(6)"
   ]
  },
  {
   "cell_type": "markdown",
   "id": "40645988-aadb-4dc1-8045-11b54d406351",
   "metadata": {},
   "source": [
    "Question5: Create a function that takes a list of numbers between 1 and 10 (excluding one number) and returns the missing number.\n",
    "\n",
    "Examples\n",
    "\n",
    "    missing_num([1, 2, 3, 4, 6, 7, 8, 9, 10]) ➞ 5\n",
    "    missing_num([7, 2, 3, 6, 5, 9, 1, 4, 8]) ➞ 10\n",
    "    missing_num([10, 5, 1, 2, 4, 6, 8, 3, 9]) ➞ 7"
   ]
  },
  {
   "cell_type": "code",
   "execution_count": 14,
   "id": "5a3e658e-37cd-4533-a840-1d60e4f086f8",
   "metadata": {},
   "outputs": [
    {
     "name": "stdout",
     "output_type": "stream",
     "text": [
      "5\n"
     ]
    }
   ],
   "source": [
    "def miss(l:list):\n",
    "    return set(range(1,11))-set(l)\n",
    "print(*miss([1, 2, 3, 4, 6, 7, 8, 9, 10]))\n",
    "print(*miss([1, 2, 3, 4, 6, 7, 8, 9, 10]))\n",
    "[7, 2, 3, 6, 5, 9, 1, 4, 8]"
   ]
  },
  {
   "cell_type": "code",
   "execution_count": null,
   "id": "6551d815-6b05-4421-bd21-a03a4d419a35",
   "metadata": {},
   "outputs": [],
   "source": []
  }
 ],
 "metadata": {
  "kernelspec": {
   "display_name": "Python 3 (ipykernel)",
   "language": "python",
   "name": "python3"
  },
  "language_info": {
   "codemirror_mode": {
    "name": "ipython",
    "version": 3
   },
   "file_extension": ".py",
   "mimetype": "text/x-python",
   "name": "python",
   "nbconvert_exporter": "python",
   "pygments_lexer": "ipython3",
   "version": "3.10.6"
  }
 },
 "nbformat": 4,
 "nbformat_minor": 5
}
