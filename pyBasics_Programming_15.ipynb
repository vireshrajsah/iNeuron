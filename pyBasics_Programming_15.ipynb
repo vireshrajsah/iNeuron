{
 "cells": [
  {
   "cell_type": "markdown",
   "id": "06d08024-832e-4054-b40e-f1e5d33de04f",
   "metadata": {},
   "source": [
    "Question 1:\n",
    "\n",
    "Please write a program using generator to print the numbers which can be divisible by 5 and 7 between 0 and n in comma separated form while n is input by console.\n",
    "\n",
    "Example:<br>\n",
    "If the following n is given as input to the program:<br>\n",
    "100<br>\n",
    "Then, the output of the program should be:<br>\n",
    "0,35,70"
   ]
  },
  {
   "cell_type": "code",
   "execution_count": 8,
   "id": "a7182323-6421-46d1-93a3-d66e44f3e4b9",
   "metadata": {},
   "outputs": [
    {
     "name": "stdin",
     "output_type": "stream",
     "text": [
      "Enter value:  100\n"
     ]
    },
    {
     "name": "stdout",
     "output_type": "stream",
     "text": [
      "0,35,70\n"
     ]
    }
   ],
   "source": [
    "def divisibleby5and7(n):\n",
    "    for i in range(n):\n",
    "        if (i % 5 ==0) and (i % 7 == 0): yield str(i)\n",
    "n = int(input('Enter value: '))\n",
    "print(','.join(list(divisibleby5and7(n))))"
   ]
  },
  {
   "cell_type": "markdown",
   "id": "f36ab669-e49d-463c-bd10-285920f48f49",
   "metadata": {},
   "source": [
    "Question 2:\n",
    "\n",
    "Please write a program using generator to print the even numbers between 0 and n in comma separated form while n is input by console.\n",
    "\n",
    "Example:<br>\n",
    "If the following n is given as input to the program:<br>\n",
    "10<br>\n",
    "Then, the output of the program should be:<br>\n",
    "0,2,4,6,8,10"
   ]
  },
  {
   "cell_type": "code",
   "execution_count": 11,
   "id": "beb2da7b-77b4-42d8-aa3c-32de39d37cf6",
   "metadata": {},
   "outputs": [
    {
     "name": "stdin",
     "output_type": "stream",
     "text": [
      "Enter value:  10\n"
     ]
    },
    {
     "name": "stdout",
     "output_type": "stream",
     "text": [
      "0,2,4,6,8\n"
     ]
    }
   ],
   "source": [
    "n = int(input('Enter value: '))\n",
    "print(','.join(list((str(i) for i in range (n) if i % 2 == 0))))"
   ]
  },
  {
   "cell_type": "markdown",
   "id": "12cac5db-77b8-43b1-8329-8946315761e5",
   "metadata": {},
   "source": [
    "Question 3:\n",
    "\n",
    "The Fibonacci Sequence is computed based on the following formula:<br>\n",
    "f(n)=0 if n=0<br>\n",
    "f(n)=1 if n=1<br>\n",
    "f(n)=f(n-1)+f(n-2) if n>1\n",
    "\n",
    "Please write a program using list comprehension to print the Fibonacci Sequence in comma separated form with a given n input by console.\n",
    "\n",
    "Example:<br>\n",
    "If the following n is given as input to the program:<br>\n",
    "7\n",
    "\n",
    "Then, the output of the program should be:\n",
    "\n",
    "0,1,1,2,3,5,8,13"
   ]
  },
  {
   "cell_type": "code",
   "execution_count": 15,
   "id": "f2a58720-c4f6-4fcb-b952-0bd8b0d01e33",
   "metadata": {},
   "outputs": [
    {
     "name": "stdin",
     "output_type": "stream",
     "text": [
      "Enter the number of terms you want in the Fibonacci Sequence:  7\n"
     ]
    },
    {
     "name": "stdout",
     "output_type": "stream",
     "text": [
      "0, 1, 1, 2, 3, 5, 8, 13\n"
     ]
    }
   ],
   "source": [
    "n = int(input(\"Enter the number of terms you want in the Fibonacci Sequence: \"))\n",
    "\n",
    "fib = [0, 1]\n",
    "[fib.append(fib[-1] + fib[-2]) for i in range(2, n+1)]\n",
    "\n",
    "print(*fib, sep=\", \")"
   ]
  },
  {
   "cell_type": "markdown",
   "id": "27594fa2-d1d3-42c3-8f65-95d8ab48d0d2",
   "metadata": {},
   "source": [
    "Question 4:\n",
    "\n",
    "Assuming that we have some email addresses in the \"username@companyname.com\" format, please write program to print the user name of a given email address. Both user names and company names are composed of letters only.\n",
    "\n",
    "Example:\n",
    "\n",
    "If the following email address is given as input to the program:<br>\n",
    "john@google.com<br>\n",
    "Then, the output of the program should be:<br>\n",
    "john"
   ]
  },
  {
   "cell_type": "code",
   "execution_count": 18,
   "id": "488d1f91-36dd-4ecc-b1f2-ec1c4976c834",
   "metadata": {},
   "outputs": [
    {
     "name": "stdin",
     "output_type": "stream",
     "text": [
      "Enter email:  john@google.com\n"
     ]
    },
    {
     "name": "stdout",
     "output_type": "stream",
     "text": [
      "john\n"
     ]
    }
   ],
   "source": [
    "import re\n",
    "def getusername(s:str):\n",
    "    m=re.match(r'\\b(\\w+)\\@\\w+\\.com', s)\n",
    "    return m.groups()\n",
    "\n",
    "s= input('Enter email: ')\n",
    "print(*getusername(s))"
   ]
  },
  {
   "cell_type": "markdown",
   "id": "69d48168-8742-4d55-bd43-f52ef4ad9dd7",
   "metadata": {},
   "source": [
    "Question 5:\n",
    "\n",
    "Define a class named Shape and its subclass Square. The Square class has an init function which takes a length as argument. Both classes have a area function which can print the area of the shape where Shape's area is 0 by default."
   ]
  },
  {
   "cell_type": "code",
   "execution_count": 38,
   "id": "b33b3d2f-9923-4253-ac6f-08a8ecdee3b9",
   "metadata": {},
   "outputs": [],
   "source": [
    "class Shape:\n",
    "    def __init__(self):\n",
    "        self.area = 0\n",
    "    def area(self):\n",
    "        self.area = 0\n",
    "        print('Area:',self.area)\n",
    "\n",
    "class Square(Shape):\n",
    "    def __init__(self, length):\n",
    "        self.a = length\n",
    "    def area(self):\n",
    "        self.area = self.a\n",
    "        print('Area:',self.area**2)"
   ]
  },
  {
   "cell_type": "code",
   "execution_count": 39,
   "id": "c9d5c4e4-a9be-4f92-bd55-3b3663d36a78",
   "metadata": {},
   "outputs": [
    {
     "name": "stdout",
     "output_type": "stream",
     "text": [
      "Area: 100\n"
     ]
    }
   ],
   "source": [
    "sq=Square(10)\n",
    "sq.area()"
   ]
  }
 ],
 "metadata": {
  "kernelspec": {
   "display_name": "Python 3 (ipykernel)",
   "language": "python",
   "name": "python3"
  },
  "language_info": {
   "codemirror_mode": {
    "name": "ipython",
    "version": 3
   },
   "file_extension": ".py",
   "mimetype": "text/x-python",
   "name": "python",
   "nbconvert_exporter": "python",
   "pygments_lexer": "ipython3",
   "version": "3.10.6"
  }
 },
 "nbformat": 4,
 "nbformat_minor": 5
}
