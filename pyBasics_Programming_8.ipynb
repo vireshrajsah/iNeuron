{
 "cells": [
  {
   "cell_type": "markdown",
   "id": "482218bc-03ef-4db6-b188-ba44f0b8143d",
   "metadata": {},
   "source": [
    "1. Write a Python Program to Add Two Matrices?\n",
    "2. Write a Python Program to Multiply Two Matrices?\n",
    "3. Write a Python Program to Transpose a Matrix?\n",
    "4. Write a Python Program to Sort Words in Alphabetic Order?\n",
    "5. Write a Python Program to Remove Punctuation From a String?"
   ]
  },
  {
   "cell_type": "code",
   "execution_count": 10,
   "id": "fea1d71a-9a35-4952-94e6-dd631182b316",
   "metadata": {},
   "outputs": [
    {
     "name": "stdout",
     "output_type": "stream",
     "text": [
      "[[21. 23. 25.]\n",
      " [27. 29. 31.]\n",
      " [33. 35. 37.]]\n"
     ]
    }
   ],
   "source": [
    "# 1\n",
    "import numpy as np\n",
    "\n",
    "def matsum(m1,m2):\n",
    "    l=len(m1)\n",
    "    b=len(m1[0])\n",
    "    sum=np.zeros((l,b))\n",
    "    for i in range(l):\n",
    "        for j in range(b):\n",
    "            sum[i][j]=m1[i][j]+m2[i][j]\n",
    "    return sum\n",
    "    \n",
    "m1=np.arange(1,10).reshape(3,3)\n",
    "m2=np.arange(20,29).reshape(3,3)\n",
    "    \n",
    "print(matsum(m1,m2))"
   ]
  },
  {
   "cell_type": "code",
   "execution_count": 26,
   "id": "f61fca77-e188-477a-88f2-d2b2915b4aed",
   "metadata": {},
   "outputs": [
    {
     "data": {
      "text/plain": [
       "array([[ 78.,  81.,  84.],\n",
       "       [156., 162., 168.],\n",
       "       [234., 243., 252.]])"
      ]
     },
     "execution_count": 26,
     "metadata": {},
     "output_type": "execute_result"
    }
   ],
   "source": [
    "#2\n",
    "def matmul(m1,m2):\n",
    "    l1=len(m1)\n",
    "    b1=len(m1[0])\n",
    "    l2=len(m2)\n",
    "    b2=len(m2[0])\n",
    "    \n",
    "    prod=np.zeros((l1,b2))\n",
    "    if b1==l2:\n",
    "        for i in range(l1):\n",
    "            for j in range(b2):\n",
    "                for k in range(b1):\n",
    "                    prod[i][j] = m1[i][k] * m2[k][j]\n",
    "    return prod\n",
    "matmul(m1,m2)     "
   ]
  },
  {
   "cell_type": "code",
   "execution_count": 27,
   "id": "9840b958-37fa-4254-92ca-6777531a3f3e",
   "metadata": {},
   "outputs": [
    {
     "data": {
      "text/plain": [
       "array([[1., 4., 7.],\n",
       "       [2., 5., 8.],\n",
       "       [3., 6., 9.]])"
      ]
     },
     "execution_count": 27,
     "metadata": {},
     "output_type": "execute_result"
    }
   ],
   "source": [
    "# 3\n",
    "def tr(m):\n",
    "    l,b = m.shape\n",
    "    n=np.zeros((b,l))\n",
    "    for i in range(l):\n",
    "        for j in range(b):\n",
    "            n[j][i]=m[i][j]\n",
    "    return n\n",
    "tr(m1)"
   ]
  },
  {
   "cell_type": "code",
   "execution_count": 31,
   "id": "9949a1e9-bca2-490b-bfe1-b6332acabc69",
   "metadata": {},
   "outputs": [
    {
     "name": "stdin",
     "output_type": "stream",
     "text": [
      "Enter a string:  my name is Viresh\n"
     ]
    },
    {
     "data": {
      "text/plain": [
       "['Viresh', 'is', 'my', 'name']"
      ]
     },
     "execution_count": 31,
     "metadata": {},
     "output_type": "execute_result"
    }
   ],
   "source": [
    "# 4\n",
    "def alphaorder(s):\n",
    "    return sorted(s.split(' '))\n",
    "s = input('Enter a string: ')\n",
    "alphaorder(s)"
   ]
  },
  {
   "cell_type": "code",
   "execution_count": 34,
   "id": "e5f3cfbe-0788-4625-84a5-5e3c64326891",
   "metadata": {},
   "outputs": [
    {
     "name": "stdin",
     "output_type": "stream",
     "text": [
      "Enter a string:  emo'.vs\\]:sno\n"
     ]
    },
    {
     "data": {
      "text/plain": [
       "'emovssno'"
      ]
     },
     "execution_count": 34,
     "metadata": {},
     "output_type": "execute_result"
    }
   ],
   "source": [
    "# 5\n",
    "import re\n",
    "def scremove(s):\n",
    "    return re.sub(r'\\W', '', s, flags=re.X)\n",
    "    \n",
    "s = input('Enter a string: ')\n",
    "scremove(s)"
   ]
  }
 ],
 "metadata": {
  "kernelspec": {
   "display_name": "Python 3 (ipykernel)",
   "language": "python",
   "name": "python3"
  },
  "language_info": {
   "codemirror_mode": {
    "name": "ipython",
    "version": 3
   },
   "file_extension": ".py",
   "mimetype": "text/x-python",
   "name": "python",
   "nbconvert_exporter": "python",
   "pygments_lexer": "ipython3",
   "version": "3.10.6"
  }
 },
 "nbformat": 4,
 "nbformat_minor": 5
}
