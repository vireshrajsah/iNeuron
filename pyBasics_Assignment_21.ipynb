{
 "cells": [
  {
   "cell_type": "markdown",
   "id": "f056a7dc-e419-4b9e-ba7a-47c3f2031b22",
   "metadata": {},
   "source": [
    "1. Add the current date to the text file today.txt as a string.\n",
    "2. Read the text file today.txt into the string today_string\n",
    "3. Parse the date from today_string.\n",
    "4. List the files in your current directory\n",
    "5. Create a list of all of the files in your parent directory (minimum five files should be available).\n",
    "6. Use multiprocessing to create three separate processes. Make each one wait a random number of seconds between one and five, print the current time, and then exit.\n",
    "7. Create a date object of your day of birth.\n",
    "8. What day of the week was your day of birth?\n",
    "9. When will you be (or when were you) 10,000 days old?"
   ]
  },
  {
   "cell_type": "code",
   "execution_count": 7,
   "id": "58b1a748-3b74-4b79-98dc-100a3aa7eb2a",
   "metadata": {},
   "outputs": [],
   "source": [
    "# 1\n",
    "from datetime import date\n",
    "with open('today.txt', 'w') as file:\n",
    "    file.write(str(date.today()))"
   ]
  },
  {
   "cell_type": "code",
   "execution_count": 10,
   "id": "914e1115-9272-4207-b8a7-2032fd035d0a",
   "metadata": {},
   "outputs": [],
   "source": [
    "# 2\n",
    "with open ('today.txt', 'r') as file:\n",
    "    today_string=file.read()"
   ]
  },
  {
   "cell_type": "code",
   "execution_count": 11,
   "id": "c5189b60-0e74-4fdb-97ce-4535c32ce027",
   "metadata": {},
   "outputs": [
    {
     "data": {
      "text/plain": [
       "23"
      ]
     },
     "execution_count": 11,
     "metadata": {},
     "output_type": "execute_result"
    }
   ],
   "source": [
    "# 3\n",
    "datetime.strptime(today_string, '%Y-%m-%d').day"
   ]
  },
  {
   "cell_type": "code",
   "execution_count": 13,
   "id": "30e1f053-e37a-48eb-a00f-b61934491b69",
   "metadata": {},
   "outputs": [
    {
     "data": {
      "text/plain": [
       "['pyBasics_Assignment_7.txt',\n",
       " 'pyBasics_Assignment_15.ipynb',\n",
       " 'README.md',\n",
       " 'pyBasics_Assignment_20.ipynb',\n",
       " 'test.txt',\n",
       " 'sample-code.ipynb',\n",
       " 'zoo.py',\n",
       " 'pyBasics_Assignment_13.txt',\n",
       " '.git',\n",
       " 'pyBasics_Assignment_19.ipynb',\n",
       " 'pyBasics_Assignment_16.ipynb',\n",
       " 'books.db-journal',\n",
       " 'pyBasics_Assignment_8.txt',\n",
       " 'pyBasics_Assignment_1.txt',\n",
       " 'pyBasics_Assignment_6.txt',\n",
       " 'pyBasics_Assignment_4.txt',\n",
       " 'pyBasics_Assignment_9.txt',\n",
       " 'pyBasics_Assignment_18.ipynb',\n",
       " 'untitled.txt',\n",
       " '__pycache__',\n",
       " 'books.db',\n",
       " 'pyBasics_Assignment_14.txt',\n",
       " 'pyBasics_Assignment_2.txt',\n",
       " 'pyBasics_Assignment_10.txt',\n",
       " 'pyBasics_Assignment_12.txt',\n",
       " 'To_Explore.txt',\n",
       " 'Untitled.ipynb',\n",
       " '.ipynb_checkpoints',\n",
       " 'pyBasics_Assignment_3.txt',\n",
       " 'today.txt',\n",
       " 'pyBasics_Assignment_11.txt',\n",
       " 'pyBasics_Assignment_17.ipynb',\n",
       " 'books.csv',\n",
       " 'pyBasics_Assignment_5.txt']"
      ]
     },
     "execution_count": 13,
     "metadata": {},
     "output_type": "execute_result"
    }
   ],
   "source": [
    "# 4\n",
    "import os\n",
    "os.listdir()"
   ]
  },
  {
   "cell_type": "code",
   "execution_count": 14,
   "id": "b1a76b0a-914a-4230-9ad2-d8a585eb8606",
   "metadata": {},
   "outputs": [],
   "source": [
    "# 5. Create a list of all of the files in your parent directory (minimum five files should be available).\n",
    "os.chdir(r'..')"
   ]
  },
  {
   "cell_type": "code",
   "execution_count": 15,
   "id": "9d0d88de-7c15-416c-9ff5-ae42d62a2b54",
   "metadata": {},
   "outputs": [
    {
     "data": {
      "text/plain": [
       "['.profile',\n",
       " '.bash_logout',\n",
       " '.bashrc',\n",
       " '.ipython',\n",
       " '.cache',\n",
       " '.jupyter',\n",
       " '.local',\n",
       " '.conda',\n",
       " '.config',\n",
       " '.npm',\n",
       " '.wget-hsts',\n",
       " 'work']"
      ]
     },
     "execution_count": 15,
     "metadata": {},
     "output_type": "execute_result"
    }
   ],
   "source": [
    "os.listdir()"
   ]
  },
  {
   "cell_type": "code",
   "execution_count": 1,
   "id": "9f5d4a83-4d4d-4db4-bb07-4da967e16819",
   "metadata": {},
   "outputs": [
    {
     "name": "stdout",
     "output_type": "stream",
     "text": [
      "Current time: 15:24:10. Process Process-2 waited 7 seconds.\n",
      "Current time: 15:24:10. Process Process-3 waited 7 seconds.\n",
      "Current time: 15:24:13. Process Process-1 waited 10 seconds.\n",
      "\n"
     ]
    }
   ],
   "source": [
    "# 6. Use multiprocessing to create three separate processes. Make each one wait a random number of seconds between one and five, print the \n",
    "#    current time, and then exit.\n",
    "code= '''\n",
    "import multiprocessing\n",
    "import random\n",
    "import time\n",
    "from datetime import datetime\n",
    "\n",
    "def print_time():\n",
    "    wait_time = random.randint(1, 10)\n",
    "    time.sleep(wait_time)\n",
    "    current_time = datetime.now().strftime(\"%H:%M:%S\")\n",
    "    print(f\"Current time: {current_time}. Process {multiprocessing.current_process().name} waited {wait_time} seconds.\")\n",
    "\n",
    "if __name__ == '__main__':\n",
    "    processes = []\n",
    "    for i in range(3):\n",
    "        p = multiprocessing.Process(target=print_time, name=f\"Process-{i+1}\")\n",
    "        processes.append(p)\n",
    "        p.start()\n",
    "    \n",
    "    for p in processes:\n",
    "        p.join()\n",
    "'''\n",
    "with open('wait.py', 'w') as pycode:\n",
    "    pycode.write(code)\n",
    "\n",
    "import subprocess\n",
    "\n",
    "result = subprocess.run(['python', 'wait.py'], stdout=subprocess.PIPE)\n",
    "output = result.stdout.decode('utf-8')\n",
    "print(output)"
   ]
  },
  {
   "cell_type": "code",
   "execution_count": 4,
   "id": "01af3555-91c4-4570-be69-903bc77c711a",
   "metadata": {},
   "outputs": [
    {
     "data": {
      "text/plain": [
       "datetime.datetime(1996, 8, 8, 0, 0)"
      ]
     },
     "execution_count": 4,
     "metadata": {},
     "output_type": "execute_result"
    }
   ],
   "source": [
    "# 7. Create a date object of your day of birth.\n",
    "import datetime\n",
    "dob=datetime.datetime.strptime('08-08-1996', '%d-%m-%Y')\n",
    "dob"
   ]
  },
  {
   "cell_type": "code",
   "execution_count": 5,
   "id": "930d402f-dd99-46ea-9554-9ce605a9496a",
   "metadata": {},
   "outputs": [
    {
     "data": {
      "text/plain": [
       "4"
      ]
     },
     "execution_count": 5,
     "metadata": {},
     "output_type": "execute_result"
    }
   ],
   "source": [
    "# 8. What day of the week was your day of birth?\n",
    "dob.isoweekday()"
   ]
  },
  {
   "cell_type": "code",
   "execution_count": 12,
   "id": "7a8c198b-98e9-4922-9d64-9dda58b98867",
   "metadata": {},
   "outputs": [
    {
     "data": {
      "text/plain": [
       "'25 12 2023'"
      ]
     },
     "execution_count": 12,
     "metadata": {},
     "output_type": "execute_result"
    }
   ],
   "source": [
    "# 9. When will you be (or when were you) 10,000 days old?\n",
    "d=datetime.timedelta(days=10000)\n",
    "tenthousandday= dob+d\n",
    "tenthousandday.strftime('%d %m %Y')"
   ]
  }
 ],
 "metadata": {
  "kernelspec": {
   "display_name": "Python 3 (ipykernel)",
   "language": "python",
   "name": "python3"
  },
  "language_info": {
   "codemirror_mode": {
    "name": "ipython",
    "version": 3
   },
   "file_extension": ".py",
   "mimetype": "text/x-python",
   "name": "python",
   "nbconvert_exporter": "python",
   "pygments_lexer": "ipython3",
   "version": "3.10.6"
  }
 },
 "nbformat": 4,
 "nbformat_minor": 5
}
