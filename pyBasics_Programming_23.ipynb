{
 "cells": [
  {
   "cell_type": "markdown",
   "id": "aea66310-b1d9-4bd4-b873-125d7380a884",
   "metadata": {},
   "source": [
    "Question 1: Create a function that takes a number as an argument and returns True or False depending on whether the number is symmetrical or not. A number is symmetrical when it is the same as its reverse.\n",
    "\n",
    "Examples\n",
    "\n",
    "    is_symmetrical(7227) ➞ True\n",
    "    is_symmetrical(12567) ➞ False\n",
    "    is_symmetrical(44444444) ➞ True\n",
    "    is_symmetrical(9939) ➞ False\n",
    "    is_symmetrical(1112111) ➞ True"
   ]
  },
  {
   "cell_type": "code",
   "execution_count": 4,
   "id": "62674635-82b8-4952-9870-9aa1ae25d81f",
   "metadata": {},
   "outputs": [
    {
     "name": "stdout",
     "output_type": "stream",
     "text": [
      "True\n",
      "False\n"
     ]
    }
   ],
   "source": [
    "def is_symmetric(n):\n",
    "    return str(n) == str(n)[::-1]\n",
    "\n",
    "print(is_symmetric(7227))\n",
    "print(is_symmetric(12567))"
   ]
  },
  {
   "cell_type": "markdown",
   "id": "0fb432da-31ed-4585-9eb1-f9aa9e6b48e2",
   "metadata": {},
   "source": [
    "Question 2: Given a string of numbers separated by a comma and space, return the product of the numbers.\n",
    "\n",
    "Examples\n",
    "\n",
    "    multiply_nums(\"2, 3\") ➞ 6\n",
    "    multiply_nums(\"1, 2, 3, 4\") ➞ 24\n",
    "    multiply_nums(\"54, 75, 453, 0\") ➞ 0\n",
    "    multiply_nums(\"10, -2\") ➞ -20"
   ]
  },
  {
   "cell_type": "code",
   "execution_count": 6,
   "id": "bd50fa5b-5e8e-4ba8-b471-3744b7306fa1",
   "metadata": {},
   "outputs": [
    {
     "data": {
      "text/plain": [
       "24"
      ]
     },
     "execution_count": 6,
     "metadata": {},
     "output_type": "execute_result"
    }
   ],
   "source": [
    "import re\n",
    "from functools import reduce\n",
    "def multiply_nums(s:str):\n",
    "    l= re.split(r'\\,\\s*', s)\n",
    "    return reduce(lambda x, y: int(x) * int(y), l)\n",
    "multiply_nums(\"1, 2, 3, 4\")"
   ]
  },
  {
   "cell_type": "markdown",
   "id": "1390815c-d1f0-45d8-b50f-c1c8b001a3af",
   "metadata": {},
   "source": [
    "Question 3: Create a function that squares every digit of a number.\n",
    "\n",
    "Examples\n",
    "\n",
    "    square_digits(9119) ➞ 811181\n",
    "    square_digits(2483) ➞ 416649\n",
    "    square_digits(3212) ➞ 9414\n",
    "    \n",
    "Notes:    The function receives an integer and must return an integer."
   ]
  },
  {
   "cell_type": "code",
   "execution_count": 8,
   "id": "637833f4-7510-49cf-ad61-ad53d1453884",
   "metadata": {},
   "outputs": [
    {
     "data": {
      "text/plain": [
       "811181"
      ]
     },
     "execution_count": 8,
     "metadata": {},
     "output_type": "execute_result"
    }
   ],
   "source": [
    "def square_digits(n):\n",
    "    return int(''.join([str(int(i)**2) for i in str(n)]))\n",
    "square_digits(9119)"
   ]
  },
  {
   "cell_type": "markdown",
   "id": "54eea539-8b33-474a-a746-13b70eb1f2a4",
   "metadata": {},
   "source": [
    "Question 4: Create a function that sorts a list and removes all duplicate items from it.\n",
    "\n",
    "Examples\n",
    "\n",
    "    setify([1, 3, 3, 5, 5]) ➞ [1, 3, 5]\n",
    "    setify([4, 4, 4, 4]) ➞ [4]\n",
    "    setify([5, 7, 8, 9, 10, 15]) ➞ [5, 7, 8, 9, 10, 15]\n",
    "    setify([3, 3, 3, 2, 1]) ➞ [1, 2, 3]"
   ]
  },
  {
   "cell_type": "code",
   "execution_count": 9,
   "id": "f1592147-1e17-4d1c-a3a5-b08fa014966d",
   "metadata": {},
   "outputs": [
    {
     "data": {
      "text/plain": [
       "[1, 2, 3]"
      ]
     },
     "execution_count": 9,
     "metadata": {},
     "output_type": "execute_result"
    }
   ],
   "source": [
    "def setify (l:list):\n",
    "    return sorted(list(set(l)))\n",
    "setify([3, 3, 3, 2, 1])"
   ]
  },
  {
   "cell_type": "markdown",
   "id": "6c975ce4-8da6-4be5-a9ec-eb1b61b91d32",
   "metadata": {},
   "source": [
    "Question 5: Create a function that returns the mean of all digits.\n",
    "\n",
    "Examples\n",
    "\n",
    "    mean(42) ➞ 3\n",
    "    mean(12345) ➞ 3\n",
    "    mean(666) ➞ 6\n",
    "Notes\n",
    "\n",
    "     The mean of all digits is the sum of digits / how many digits there are (e.g. mean of digits in 512 is (5+1+2)/3(number of digits) = 8/3=2).\n",
    "     The mean will always be an integer."
   ]
  },
  {
   "cell_type": "code",
   "execution_count": 10,
   "id": "72fcfc78-1c18-4d1f-9aae-0cc4caa34025",
   "metadata": {},
   "outputs": [
    {
     "data": {
      "text/plain": [
       "3.0"
      ]
     },
     "execution_count": 10,
     "metadata": {},
     "output_type": "execute_result"
    }
   ],
   "source": [
    "def dmean(n):\n",
    "    return round(sum([int(i) for i in str(n)])/len(str(n)), 0)\n",
    "dmean(12345)"
   ]
  },
  {
   "cell_type": "code",
   "execution_count": null,
   "id": "70eb8eb8-157a-4343-8f20-892cf4da779b",
   "metadata": {},
   "outputs": [],
   "source": []
  }
 ],
 "metadata": {
  "kernelspec": {
   "display_name": "Python 3 (ipykernel)",
   "language": "python",
   "name": "python3"
  },
  "language_info": {
   "codemirror_mode": {
    "name": "ipython",
    "version": 3
   },
   "file_extension": ".py",
   "mimetype": "text/x-python",
   "name": "python",
   "nbconvert_exporter": "python",
   "pygments_lexer": "ipython3",
   "version": "3.10.6"
  }
 },
 "nbformat": 4,
 "nbformat_minor": 5
}
