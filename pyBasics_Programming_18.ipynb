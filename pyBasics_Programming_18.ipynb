{
 "cells": [
  {
   "cell_type": "markdown",
   "id": "e62d5a1e-1443-4b8f-a25d-3f09daec0a8a",
   "metadata": {},
   "source": [
    "Question 1: Create a function that takes a list of non-negative integers and strings and return a new list\n",
    "without the strings.\n",
    "\n",
    "Examples\n",
    "\n",
    "    filter_list([1, 2, \"a\", \"b\"]) ➞ [1, 2]\n",
    "    filter_list([1, \"a\", \"b\", 0, 15]) ➞ [1, 0, 15]\n",
    "    filter_list([1, 2, \"aasf\", \"1\", \"123\", 123]) ➞ [1, 2, 123]"
   ]
  },
  {
   "cell_type": "code",
   "execution_count": 1,
   "id": "5e3d359f-f83c-40ab-bcc5-8f9adb7bb951",
   "metadata": {},
   "outputs": [],
   "source": [
    "def filter_list(l:list):\n",
    "    return [i for i in l if type(i)!=str]"
   ]
  },
  {
   "cell_type": "code",
   "execution_count": 2,
   "id": "30b60f1f-431c-4be8-961e-81eb21d42b57",
   "metadata": {},
   "outputs": [
    {
     "data": {
      "text/plain": [
       "[1, 2]"
      ]
     },
     "execution_count": 2,
     "metadata": {},
     "output_type": "execute_result"
    }
   ],
   "source": [
    "filter_list([1, 2, \"a\", \"b\"])"
   ]
  },
  {
   "cell_type": "markdown",
   "id": "54ab6eee-0905-41f1-b312-604b685d4440",
   "metadata": {},
   "source": [
    "Question 2\n",
    "The \"Reverser\" takes a string as input and returns that string in reverse order, with the opposite case.\n",
    "\n",
    "Examples\n",
    "\n",
    "    reverse(\"Hello World\") ➞ \"DLROw OLLEh\"\n",
    "    reverse(\"ReVeRsE\") ➞ \"eSrEvEr\"\n",
    "    reverse(\"Radar\") ➞ \"RADAr\""
   ]
  },
  {
   "cell_type": "code",
   "execution_count": 4,
   "id": "444cdfd3-41ea-4e7d-ba39-f19ba4567d62",
   "metadata": {},
   "outputs": [
    {
     "data": {
      "text/plain": [
       "'!DLROw WOLLEh'"
      ]
     },
     "execution_count": 4,
     "metadata": {},
     "output_type": "execute_result"
    }
   ],
   "source": [
    "def reverse(s:str):\n",
    "    return s[::-1].swapcase()\n",
    "\n",
    "reverse('Hellow World!')"
   ]
  },
  {
   "cell_type": "markdown",
   "id": "96dee614-2e72-495f-97a0-1fb04a36f308",
   "metadata": {},
   "source": [
    "Question 3: You can assign variables from lists like this:\n",
    "\n",
    "    lst = [1, 2, 3, 4, 5, 6]\n",
    "    first = lst[0]\n",
    "    middle = lst[1:-1]\n",
    "    last = lst[-1]\n",
    "    print(first) ➞ outputs 1\n",
    "    print(middle) ➞ outputs [2, 3, 4, 5]\n",
    "    print(last) ➞ outputs 6\n",
    "    \n",
    "With Python 3, you can assign variables from lists in a much more succinct way. Create variables first, middle and last from the given list using destructuring assignment (check the Resources tab for some examples), where:\n",
    "\n",
    "    first ➞ 1\n",
    "    middle ➞ [2, 3, 4, 5]\n",
    "    last ➞ 6"
   ]
  },
  {
   "cell_type": "code",
   "execution_count": 5,
   "id": "f016beba-ed49-47d5-bc9b-a4a71faf54b0",
   "metadata": {},
   "outputs": [],
   "source": [
    "def flm(l:list):\n",
    "    print(f'first: {l[0]}')\n",
    "    print(f'last: {l[-1]}')\n",
    "    print(f'middle {l[1:-1]}')"
   ]
  },
  {
   "cell_type": "code",
   "execution_count": 6,
   "id": "ef177274-98e0-4419-a232-4aec1840ca72",
   "metadata": {},
   "outputs": [
    {
     "name": "stdout",
     "output_type": "stream",
     "text": [
      "first: 1\n",
      "last: b\n",
      "middle [2, 'a']\n"
     ]
    }
   ],
   "source": [
    "flm([1, 2, \"a\", \"b\"])"
   ]
  },
  {
   "cell_type": "markdown",
   "id": "9168360f-7ae0-481a-b3e3-040f29a9b945",
   "metadata": {},
   "source": [
    "Question 4: Write a function that calculates the factorial of a number recursively.\n",
    "\n",
    "Examples\n",
    "\n",
    "    factorial(5) ➞ 120\n",
    "    factorial(3) ➞ 6\n",
    "    factorial(1) ➞ 1\n",
    "    factorial(0) ➞ 1"
   ]
  },
  {
   "cell_type": "code",
   "execution_count": 8,
   "id": "7141c1df-2fe3-438c-9f26-631e5dc6055f",
   "metadata": {},
   "outputs": [
    {
     "data": {
      "text/plain": [
       "120"
      ]
     },
     "execution_count": 8,
     "metadata": {},
     "output_type": "execute_result"
    }
   ],
   "source": [
    "def fact(n):\n",
    "    if n==0:\n",
    "        return 1\n",
    "    else:\n",
    "        return n * fact(n-1)\n",
    "fact(5)"
   ]
  },
  {
   "cell_type": "markdown",
   "id": "00e0d1e0-a9b5-4121-a09f-6283be1c4939",
   "metadata": {},
   "source": [
    "Question 5: Write a function that moves all elements of one type to the end of the list.\n",
    "\n",
    "Examples\n",
    "\n",
    "    move_to_end([1, 3, 2, 4, 4, 1], 1) ➞ [3, 2, 4, 4, 1, 1]\n",
    "    # Move all the 1s to the end of the array.\n",
    "    move_to_end([7, 8, 9, 1, 2, 3, 4], 9) ➞ [7, 8, 1, 2, 3, 4, 9]\n",
    "    move_to_end([\"a\", \"a\", \"a\", \"b\"], \"a\") ➞ [\"b\", \"a\", \"a\", \"a\"]"
   ]
  },
  {
   "cell_type": "code",
   "execution_count": 11,
   "id": "be8f1ba5-1848-4743-bbbd-62ef9e9e0d17",
   "metadata": {},
   "outputs": [],
   "source": [
    "def move_to_end(lst, elem):\n",
    "    count = lst.count(elem)\n",
    "    lst[:] = [x for x in lst if x != elem] + [elem] * count\n",
    "    return lst"
   ]
  },
  {
   "cell_type": "code",
   "execution_count": 12,
   "id": "2b67a11a-8163-4420-9196-4795a6a38dab",
   "metadata": {},
   "outputs": [
    {
     "data": {
      "text/plain": [
       "[1, 'a', 'b', 0.9, 'jjk', 5, 2, 2]"
      ]
     },
     "execution_count": 12,
     "metadata": {},
     "output_type": "execute_result"
    }
   ],
   "source": [
    "move_to_end([1, 2, \"a\", \"b\", 0.9, 'jjk', 2, 5], 2)"
   ]
  },
  {
   "cell_type": "code",
   "execution_count": null,
   "id": "06752972-13ad-4807-8e6b-3933607063b6",
   "metadata": {},
   "outputs": [],
   "source": []
  },
  {
   "cell_type": "code",
   "execution_count": null,
   "id": "c0318fd5-bf70-4310-9e29-40aa981844bc",
   "metadata": {},
   "outputs": [],
   "source": []
  }
 ],
 "metadata": {
  "kernelspec": {
   "display_name": "Python 3 (ipykernel)",
   "language": "python",
   "name": "python3"
  },
  "language_info": {
   "codemirror_mode": {
    "name": "ipython",
    "version": 3
   },
   "file_extension": ".py",
   "mimetype": "text/x-python",
   "name": "python",
   "nbconvert_exporter": "python",
   "pygments_lexer": "ipython3",
   "version": "3.10.6"
  }
 },
 "nbformat": 4,
 "nbformat_minor": 5
}
