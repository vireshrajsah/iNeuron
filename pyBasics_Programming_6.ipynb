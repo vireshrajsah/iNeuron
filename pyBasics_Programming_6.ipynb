{
 "cells": [
  {
   "cell_type": "markdown",
   "id": "421031ac-1684-41af-9d5e-b691dfb88b17",
   "metadata": {},
   "source": [
    "1. Write a Python Program to Display Fibonacci Sequence Using Recursion?\n",
    "2. Write a Python Program to Find Factorial of Number Using Recursion?\n",
    "3. Write a Python Program to calculate your Body Mass Index?\n",
    "4. Write a Python Program to calculate the natural logarithm of any number?\n",
    "5. Write a Python Program for cube sum of first n natural numbers?"
   ]
  },
  {
   "cell_type": "code",
   "execution_count": 27,
   "id": "49871a3d-c5d0-4b85-917b-e712492b55e7",
   "metadata": {},
   "outputs": [
    {
     "name": "stdout",
     "output_type": "stream",
     "text": [
      "0\n",
      "1\n",
      "1\n",
      "2\n",
      "3\n",
      "5\n",
      "8\n",
      "13\n",
      "21\n",
      "34\n"
     ]
    }
   ],
   "source": [
    "# 1\n",
    "def fibonacci(n):\n",
    "    if n <= 1:\n",
    "        return n\n",
    "    else:\n",
    "        return fibonacci(n-1) + fibonacci(n-2)\n",
    "\n",
    "for i in range(10):\n",
    "    print(fibonacci(i))"
   ]
  },
  {
   "cell_type": "code",
   "execution_count": 26,
   "id": "8b6c5e7a-09f9-4a4a-ba8e-5fc3a45ac89f",
   "metadata": {},
   "outputs": [
    {
     "name": "stdin",
     "output_type": "stream",
     "text": [
      "Enter number:  10\n"
     ]
    },
    {
     "name": "stdout",
     "output_type": "stream",
     "text": [
      "3628800\n"
     ]
    }
   ],
   "source": [
    "# 2\n",
    "def recfact(n=1, fact=1):\n",
    "    if n<=num:\n",
    "        fact*=n\n",
    "        n+=1\n",
    "        recfact(n, fact)\n",
    "    else:\n",
    "        print(fact)\n",
    "        \n",
    "num= int(input('Enter number: '))\n",
    "recfact()"
   ]
  },
  {
   "cell_type": "code",
   "execution_count": 6,
   "id": "fd428ff2-687e-4a99-babf-5c13d543cb0a",
   "metadata": {},
   "outputs": [
    {
     "name": "stdin",
     "output_type": "stream",
     "text": [
      "Enter you weight in kg:  75\n",
      "Enter you height in m:  1.74\n"
     ]
    },
    {
     "name": "stdout",
     "output_type": "stream",
     "text": [
      "BMI:  24.772096710265558\n"
     ]
    }
   ],
   "source": [
    "# 3\n",
    "w = float(input('Enter you weight in kg: '))\n",
    "h = float(input('Enter you height in m: '))\n",
    "\n",
    "print('BMI: ', w/(h**2))"
   ]
  },
  {
   "cell_type": "code",
   "execution_count": 8,
   "id": "4594c33a-f1d1-4d5b-8019-4daf4b971f23",
   "metadata": {},
   "outputs": [
    {
     "name": "stdin",
     "output_type": "stream",
     "text": [
      "Enter number:  10\n"
     ]
    },
    {
     "name": "stdout",
     "output_type": "stream",
     "text": [
      "Natural log of 10 is 2.302585092994046\n"
     ]
    }
   ],
   "source": [
    "# 4\n",
    "import math\n",
    "n= int(input('Enter number: '))\n",
    "\n",
    "print(f'Natural log of {n} is {math.log(n)}')"
   ]
  },
  {
   "cell_type": "code",
   "execution_count": 5,
   "id": "6c095cda-dec7-44b7-b108-5e3839864b41",
   "metadata": {},
   "outputs": [
    {
     "name": "stdin",
     "output_type": "stream",
     "text": [
      "Enter number:  8\n"
     ]
    },
    {
     "name": "stdout",
     "output_type": "stream",
     "text": [
      "Cube sum of the first 8 natural numbers is 1296\n"
     ]
    }
   ],
   "source": [
    "# 5\n",
    "from functools import reduce\n",
    "n= int(input('Enter number: '))\n",
    "print(f'Cube sum of the first {n} natural numbers is {reduce(lambda x,y: x+y**3, range(n+1))}')"
   ]
  }
 ],
 "metadata": {
  "kernelspec": {
   "display_name": "Python 3 (ipykernel)",
   "language": "python",
   "name": "python3"
  },
  "language_info": {
   "codemirror_mode": {
    "name": "ipython",
    "version": 3
   },
   "file_extension": ".py",
   "mimetype": "text/x-python",
   "name": "python",
   "nbconvert_exporter": "python",
   "pygments_lexer": "ipython3",
   "version": "3.10.6"
  }
 },
 "nbformat": 4,
 "nbformat_minor": 5
}
