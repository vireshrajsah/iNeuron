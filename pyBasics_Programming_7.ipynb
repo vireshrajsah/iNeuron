{
 "cells": [
  {
   "cell_type": "markdown",
   "id": "7ec07eca-a4f4-4ff6-8595-3c74b05432ca",
   "metadata": {},
   "source": [
    "1. Write a Python Program to find sum of array?\n",
    "2. Write a Python Program to find largest element in an array?\n",
    "3. Write a Python Program for array rotation?\n",
    "4. Write a Python Program to Split the array and add the first part to the end?\n",
    "5. Write a Python Program to check if given array is Monotonic?"
   ]
  },
  {
   "cell_type": "code",
   "execution_count": 2,
   "id": "5b21f1b7-8557-4e10-812f-b7c3216ea91f",
   "metadata": {},
   "outputs": [
    {
     "data": {
      "text/plain": [
       "45"
      ]
     },
     "execution_count": 2,
     "metadata": {},
     "output_type": "execute_result"
    }
   ],
   "source": [
    "# 1\n",
    "import numpy as np\n",
    "a = np.array([1,2,3,4,5,6,7,8,9])\n",
    "a.sum()"
   ]
  },
  {
   "cell_type": "code",
   "execution_count": 3,
   "id": "a29797cd-7b7e-4566-b209-f3e1966d0a61",
   "metadata": {},
   "outputs": [
    {
     "data": {
      "text/plain": [
       "9"
      ]
     },
     "execution_count": 3,
     "metadata": {},
     "output_type": "execute_result"
    }
   ],
   "source": [
    "# 2\n",
    "a.max()"
   ]
  },
  {
   "cell_type": "code",
   "execution_count": 48,
   "id": "60cec5af-ab9c-47aa-b915-0959c931f451",
   "metadata": {},
   "outputs": [
    {
     "data": {
      "text/plain": [
       "array([6, 7, 8, 9, 1, 2, 3, 4, 5])"
      ]
     },
     "execution_count": 48,
     "metadata": {},
     "output_type": "execute_result"
    }
   ],
   "source": [
    "# 3\n",
    "def rotatearray(a, k):\n",
    "    tail=list(a[-k:])\n",
    "    head=list(a[:-k])\n",
    "    \n",
    "    tail.extend(head)\n",
    "    return np.array(tail)\n",
    "\n",
    "rotatearray(a, -5)"
   ]
  },
  {
   "cell_type": "code",
   "execution_count": 50,
   "id": "784b2c28-eb6d-4545-a41f-2cff265cdfd7",
   "metadata": {},
   "outputs": [
    {
     "data": {
      "text/plain": [
       "array([3, 4, 5, 6, 7, 8, 9, 1, 2])"
      ]
     },
     "execution_count": 50,
     "metadata": {},
     "output_type": "execute_result"
    }
   ],
   "source": [
    "# 4\n",
    "def split_concat(a, k):\n",
    "    head= list(a[:k])\n",
    "    tail= list(a[k:])\n",
    "    tail.extend(head)\n",
    "    return np.array(tail)\n",
    "\n",
    "split_concat(a, 2)"
   ]
  },
  {
   "cell_type": "code",
   "execution_count": 56,
   "id": "a7a1aca0-deaa-44d9-af5c-5fd3ee00c2c0",
   "metadata": {},
   "outputs": [
    {
     "name": "stdout",
     "output_type": "stream",
     "text": [
      "[1 2 3 4 5 6 7] Is monotonic\n",
      "[1 3 6 8 2] is not momotonic\n",
      "[8 6 5 3 2 1] is not momotonic\n"
     ]
    }
   ],
   "source": [
    "# 5\n",
    "def checkmono(a):\n",
    "    if list(a)==list(sorted(a, reverse=False)) or list(a)==list(sorted(a, reverse=False)):\n",
    "        return True\n",
    "    else:\n",
    "        return False\n",
    "\n",
    "arr1= np.array([1,2,3,4,5,6,7])\n",
    "arr2= np.array([1,3,6,8,2])\n",
    "arr3= np.array([8,6,5,3,2,1])\n",
    "\n",
    "print(arr1, 'is monotonic' if checkmono(arr1) else 'is not momotonic')\n",
    "print(arr2, 'is monotonic' if checkmono(arr2) else 'is not momotonic')\n",
    "print(arr3, 'is monotonic' if checkmono(arr3) else 'is not momotonic')"
   ]
  },
  {
   "cell_type": "code",
   "execution_count": 59,
   "id": "3a9d2093-891d-4c5e-95b6-bc11ef8e07f3",
   "metadata": {},
   "outputs": [
    {
     "data": {
      "text/plain": [
       "True"
      ]
     },
     "execution_count": 59,
     "metadata": {},
     "output_type": "execute_result"
    }
   ],
   "source": [
    "list(arr3)==list(sorted(arr3, reverse=True))"
   ]
  },
  {
   "cell_type": "code",
   "execution_count": 60,
   "id": "ab14d979-5ac9-4ee7-9d96-b6082036a3ce",
   "metadata": {},
   "outputs": [
    {
     "data": {
      "text/plain": [
       "([8, 6, 5, 3, 2, 1], [8, 6, 5, 3, 2, 1])"
      ]
     },
     "execution_count": 60,
     "metadata": {},
     "output_type": "execute_result"
    }
   ],
   "source": [
    "list(arr3), list(sorted(arr3, reverse=True))"
   ]
  },
  {
   "cell_type": "code",
   "execution_count": null,
   "id": "59fcd8bf-f828-4774-b6d0-ee118b3f607b",
   "metadata": {},
   "outputs": [],
   "source": []
  }
 ],
 "metadata": {
  "kernelspec": {
   "display_name": "Python 3 (ipykernel)",
   "language": "python",
   "name": "python3"
  },
  "language_info": {
   "codemirror_mode": {
    "name": "ipython",
    "version": 3
   },
   "file_extension": ".py",
   "mimetype": "text/x-python",
   "name": "python",
   "nbconvert_exporter": "python",
   "pygments_lexer": "ipython3",
   "version": "3.10.6"
  }
 },
 "nbformat": 4,
 "nbformat_minor": 5
}
