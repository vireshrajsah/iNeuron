{
 "cells": [
  {
   "cell_type": "markdown",
   "id": "bce58b26-6297-4422-baec-f25d659ac54e",
   "metadata": {},
   "source": [
    "1. Write a Python program to check if the given number is a Disarium Number?\n",
    "2. Write a Python program to print all disarium numbers between 1 to 100?\n",
    "3. Write a Python program to check if the given number is Happy Number?\n",
    "4. Write a Python program to print all happy numbers between 1 and 100?\n",
    "5. Write a Python program to determine whether the given number is a Harshad Number?\n",
    "6. Write a Python program to print all pronic numbers between 1 and 100?"
   ]
  },
  {
   "cell_type": "code",
   "execution_count": 15,
   "id": "8d94ab6b-22a6-4fd2-a9ac-5953377bfc7a",
   "metadata": {},
   "outputs": [
    {
     "data": {
      "text/plain": [
       "True"
      ]
     },
     "execution_count": 15,
     "metadata": {},
     "output_type": "execute_result"
    }
   ],
   "source": [
    "# 1\n",
    "def checkDisarium(n):\n",
    "    s=str(n)\n",
    "    check=sum([int(a)**(i+1) for i,a in enumerate(s)])\n",
    "    return check == n\n",
    "\n",
    "checkDisarium(135)"
   ]
  },
  {
   "cell_type": "code",
   "execution_count": 18,
   "id": "4e237076-43b7-464f-bc8c-73534fcc0c1b",
   "metadata": {},
   "outputs": [
    {
     "name": "stdout",
     "output_type": "stream",
     "text": [
      "[0, 1, 2, 3, 4, 5, 6, 7, 8, 9, 89]\n"
     ]
    }
   ],
   "source": [
    "# 2\n",
    "print([i for i in range (101) if checkDisarium(i)])"
   ]
  },
  {
   "cell_type": "code",
   "execution_count": 32,
   "id": "90bd9107-8a64-403f-99f7-e64a174ad527",
   "metadata": {},
   "outputs": [
    {
     "name": "stdout",
     "output_type": "stream",
     "text": [
      "Its a happy number!\n"
     ]
    }
   ],
   "source": [
    "# 3\n",
    "import multiprocessing\n",
    "\n",
    "def happy(n):\n",
    "    digits = str( n )\n",
    "    sumsq = sum([int(i)**2 for i in digits])\n",
    "    if sumsq== 1:\n",
    "        print('Its a happy number!')\n",
    "    else:\n",
    "        happy(sumsq)\n",
    "\n",
    "p = multiprocessing.Process(target=happy, args=(19,))\n",
    "p.start()\n",
    "\n",
    "p.join(2)\n",
    "if p.is_alive():\n",
    "    p.terminate()\n",
    "    print('Its an unhappy number')"
   ]
  },
  {
   "cell_type": "code",
   "execution_count": 44,
   "id": "db86f8d4-a913-4f09-80c5-5cdd6ba8e764",
   "metadata": {},
   "outputs": [
    {
     "data": {
      "text/plain": [
       "True"
      ]
     },
     "execution_count": 44,
     "metadata": {},
     "output_type": "execute_result"
    }
   ],
   "source": [
    "def is_happy(n):\n",
    "    seen=set()\n",
    "    while n!=1:\n",
    "        n=sum(int(i)**2 for i in str(n))\n",
    "        if n in seen:\n",
    "            return False\n",
    "        seen.add(n)\n",
    "    return True\n",
    "is_happy(19)"
   ]
  },
  {
   "cell_type": "code",
   "execution_count": 46,
   "id": "8800c4d2-3d1d-45ee-83b0-18ce49a2b9b1",
   "metadata": {},
   "outputs": [
    {
     "name": "stdout",
     "output_type": "stream",
     "text": [
      "[1, 7, 10, 13, 19, 23, 28, 31, 32, 44, 49, 68, 70, 79, 82, 86, 91, 94, 97, 100]\n"
     ]
    }
   ],
   "source": [
    "# 4\n",
    "print([i for i in range(101) if is_happy(i)])"
   ]
  },
  {
   "cell_type": "code",
   "execution_count": 48,
   "id": "bd428935-832f-49ed-b438-c310f8a88df6",
   "metadata": {},
   "outputs": [
    {
     "data": {
      "text/plain": [
       "True"
      ]
     },
     "execution_count": 48,
     "metadata": {},
     "output_type": "execute_result"
    }
   ],
   "source": [
    "# 5\n",
    "def checkHarshad(n):\n",
    "    sd=sum(int(i) for i in str(n))\n",
    "    if n % sd == 0:\n",
    "        return True\n",
    "    else:\n",
    "        return False\n",
    "\n",
    "checkHarshad(1729)"
   ]
  },
  {
   "cell_type": "code",
   "execution_count": null,
   "id": "ceea5221-7d96-4a4d-8758-b1350f6e1f9e",
   "metadata": {},
   "outputs": [],
   "source": [
    "# 6\n",
    "def is_pronic(n):\n",
    "    for i in range(1, int(n**0.5)+1):\n",
    "        if i*(i+1) == n:\n",
    "            return True\n",
    "    return False\n",
    "\n",
    "\n",
    "print([i for i in range(1, 101) if is_pronic(i)])\n",
    "\n",
    "# print the pronic numbers\n",
    "print(\"Pronic numbers from 1 to 100:\", pronic_numbers)"
   ]
  }
 ],
 "metadata": {
  "kernelspec": {
   "display_name": "Python 3 (ipykernel)",
   "language": "python",
   "name": "python3"
  },
  "language_info": {
   "codemirror_mode": {
    "name": "ipython",
    "version": 3
   },
   "file_extension": ".py",
   "mimetype": "text/x-python",
   "name": "python",
   "nbconvert_exporter": "python",
   "pygments_lexer": "ipython3",
   "version": "3.10.6"
  }
 },
 "nbformat": 4,
 "nbformat_minor": 5
}
