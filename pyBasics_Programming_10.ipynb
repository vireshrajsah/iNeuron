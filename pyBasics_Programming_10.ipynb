{
 "cells": [
  {
   "cell_type": "markdown",
   "id": "27c014c3-82e3-4ad9-9b85-1b42717799f8",
   "metadata": {},
   "source": [
    "1. Write a Python program to find sum of elements in list?\n",
    "2. Write a Python program to Multiply all numbers in the list?\n",
    "3. Write a Python program to find smallest number in a list?\n",
    "4. Write a Python program to find largest number in a list?\n",
    "5. Write a Python program to find second largest number in a list?\n",
    "6. Write a Python program to find N largest elements from a list?\n",
    "7. Write a Python program to print even numbers in a list?\n",
    "8. Write a Python program to print odd numbers in a List?\n",
    "9. Write a Python program to Remove empty List from List?\n",
    "10. Write a Python program to Cloning or Copying a list?\n",
    "11. Write a Python program to Count occurrences of an element in a list?"
   ]
  },
  {
   "cell_type": "code",
   "execution_count": 1,
   "id": "a14dc2f7-996a-49a8-9a46-303c141fc27f",
   "metadata": {},
   "outputs": [
    {
     "data": {
      "text/plain": [
       "45"
      ]
     },
     "execution_count": 1,
     "metadata": {},
     "output_type": "execute_result"
    }
   ],
   "source": [
    "# 1\n",
    "l=[1,2,3,4,5,6,7,8,9]\n",
    "sum(l)"
   ]
  },
  {
   "cell_type": "code",
   "execution_count": 2,
   "id": "768c7cf0-146c-4ca6-a955-c153a82d4f33",
   "metadata": {},
   "outputs": [
    {
     "data": {
      "text/plain": [
       "362880"
      ]
     },
     "execution_count": 2,
     "metadata": {},
     "output_type": "execute_result"
    }
   ],
   "source": [
    "# 2\n",
    "from functools import reduce\n",
    "reduce (lambda x,y: x*y, l)"
   ]
  },
  {
   "cell_type": "code",
   "execution_count": 3,
   "id": "6e8bc1e7-47da-4ac1-9554-822fc7d05ff3",
   "metadata": {},
   "outputs": [
    {
     "data": {
      "text/plain": [
       "1"
      ]
     },
     "execution_count": 3,
     "metadata": {},
     "output_type": "execute_result"
    }
   ],
   "source": [
    "# 3\n",
    "min(l)"
   ]
  },
  {
   "cell_type": "code",
   "execution_count": 5,
   "id": "5089cb17-b377-43d9-8e7e-b73d05311669",
   "metadata": {},
   "outputs": [
    {
     "data": {
      "text/plain": [
       "9"
      ]
     },
     "execution_count": 5,
     "metadata": {},
     "output_type": "execute_result"
    }
   ],
   "source": [
    "# 4\n",
    "max(l)"
   ]
  },
  {
   "cell_type": "code",
   "execution_count": 6,
   "id": "b21076a6-d1e9-4687-abbc-1a299fa168fc",
   "metadata": {},
   "outputs": [
    {
     "data": {
      "text/plain": [
       "8"
      ]
     },
     "execution_count": 6,
     "metadata": {},
     "output_type": "execute_result"
    }
   ],
   "source": [
    "# 5\n",
    "sorted(l)[-2]"
   ]
  },
  {
   "cell_type": "code",
   "execution_count": 7,
   "id": "2b195e1a-300f-4955-8c0a-01b71ea451be",
   "metadata": {},
   "outputs": [
    {
     "name": "stdin",
     "output_type": "stream",
     "text": [
      "Enter n:  3\n"
     ]
    },
    {
     "data": {
      "text/plain": [
       "7"
      ]
     },
     "execution_count": 7,
     "metadata": {},
     "output_type": "execute_result"
    }
   ],
   "source": [
    "# 6\n",
    "n=int(input('Enter n: '))\n",
    "sorted(l)[-n]"
   ]
  },
  {
   "cell_type": "code",
   "execution_count": 8,
   "id": "84b4c9a5-3174-44a8-a0ca-0c0da11d178e",
   "metadata": {},
   "outputs": [
    {
     "data": {
      "text/plain": [
       "[2, 4, 6, 8]"
      ]
     },
     "execution_count": 8,
     "metadata": {},
     "output_type": "execute_result"
    }
   ],
   "source": [
    "# 7\n",
    "[i for i in l if i % 2 ==0]"
   ]
  },
  {
   "cell_type": "code",
   "execution_count": 9,
   "id": "0331e3dc-bff8-4130-9296-57aec5945ca6",
   "metadata": {},
   "outputs": [
    {
     "data": {
      "text/plain": [
       "[1, 3, 5, 7, 9]"
      ]
     },
     "execution_count": 9,
     "metadata": {},
     "output_type": "execute_result"
    }
   ],
   "source": [
    "# 8\n",
    "[i for i in l if i % 2 !=0]"
   ]
  },
  {
   "cell_type": "code",
   "execution_count": 14,
   "id": "860bfe40-f323-468c-94ad-4ca1fcec3881",
   "metadata": {},
   "outputs": [
    {
     "name": "stdout",
     "output_type": "stream",
     "text": [
      "[[1, 2], 3]\n"
     ]
    }
   ],
   "source": [
    "# 9\n",
    "l2=[[], [1,2], 3, []]\n",
    "\n",
    "for i in l2:\n",
    "    if type(i) == list:\n",
    "        if len(i)==0:\n",
    "            l2.remove(i)\n",
    "print(l2)"
   ]
  },
  {
   "cell_type": "code",
   "execution_count": 15,
   "id": "13831d6f-803c-4a94-bddb-d408a477aa22",
   "metadata": {},
   "outputs": [
    {
     "data": {
      "text/plain": [
       "[[1, 2], 3]"
      ]
     },
     "execution_count": 15,
     "metadata": {},
     "output_type": "execute_result"
    }
   ],
   "source": [
    "# 10\n",
    "l2_copy = l2.copy()\n",
    "l2_copy"
   ]
  },
  {
   "cell_type": "code",
   "execution_count": 16,
   "id": "505ab907-e556-4dda-bfea-5bc46d1d4c0b",
   "metadata": {},
   "outputs": [],
   "source": [
    "# 11\n",
    "l3=[1,2,5,6,2,7,5,8,9]"
   ]
  },
  {
   "cell_type": "code",
   "execution_count": 17,
   "id": "092dedda-c5e6-4c5c-9212-2a1efd475960",
   "metadata": {},
   "outputs": [
    {
     "data": {
      "text/plain": [
       "2"
      ]
     },
     "execution_count": 17,
     "metadata": {},
     "output_type": "execute_result"
    }
   ],
   "source": [
    "l3.count(5)"
   ]
  },
  {
   "cell_type": "code",
   "execution_count": null,
   "id": "2eddfd76-5d62-4045-9db7-e5225156f024",
   "metadata": {},
   "outputs": [],
   "source": []
  }
 ],
 "metadata": {
  "kernelspec": {
   "display_name": "Python 3 (ipykernel)",
   "language": "python",
   "name": "python3"
  },
  "language_info": {
   "codemirror_mode": {
    "name": "ipython",
    "version": 3
   },
   "file_extension": ".py",
   "mimetype": "text/x-python",
   "name": "python",
   "nbconvert_exporter": "python",
   "pygments_lexer": "ipython3",
   "version": "3.10.6"
  }
 },
 "nbformat": 4,
 "nbformat_minor": 5
}
