{
 "cells": [
  {
   "cell_type": "markdown",
   "id": "bf9c787e-aa57-4a26-b3d9-166ff43f9324",
   "metadata": {},
   "source": [
    "1. Write a Python program to Extract Unique values dictionary values?\n",
    "2. Write a Python program to find the sum of all items in a dictionary?\n",
    "3. Write a Python program to Merging two Dictionaries?\n",
    "4. Write a Python program to convert key-values list to flat dictionary?\n",
    "5. Write a Python program to insertion at the beginning in OrderedDict?\n",
    "6. Write a Python program to check order of character in string using OrderedDict()?\n",
    "7. Write a Python program to sort Python Dictionaries by Key or Value?"
   ]
  },
  {
   "cell_type": "code",
   "execution_count": 1,
   "id": "528018f4-335a-47e1-9e50-abbdfd90c2d8",
   "metadata": {},
   "outputs": [
    {
     "data": {
      "text/plain": [
       "{1, 2, 4, 6}"
      ]
     },
     "execution_count": 1,
     "metadata": {},
     "output_type": "execute_result"
    }
   ],
   "source": [
    "# 1\n",
    "d={'a':1, 'b':2, 'c':2, 'd':4, 'e':1, 'f':6}\n",
    "set(d.values())"
   ]
  },
  {
   "cell_type": "code",
   "execution_count": 2,
   "id": "08815db3-c56e-4a30-8a88-6a3f778569c9",
   "metadata": {},
   "outputs": [
    {
     "data": {
      "text/plain": [
       "dict_items([('a', 1), ('b', 2), ('c', 2), ('d', 4), ('e', 1), ('f', 6)])"
      ]
     },
     "execution_count": 2,
     "metadata": {},
     "output_type": "execute_result"
    }
   ],
   "source": [
    "# 2\n",
    "d.items()"
   ]
  },
  {
   "cell_type": "code",
   "execution_count": 3,
   "id": "3d858c2d-827e-4772-bd04-4e13af4f21ed",
   "metadata": {},
   "outputs": [],
   "source": [
    "# 3\n",
    "d2={'k':0, 'l':5}\n",
    "d1=d.copy()\n",
    "d1.update(d2)"
   ]
  },
  {
   "cell_type": "code",
   "execution_count": 4,
   "id": "facdee80-1d4e-49bd-bc06-3b230f6a716a",
   "metadata": {},
   "outputs": [
    {
     "data": {
      "text/plain": [
       "{'a': 1, 'b': 2, 'c': 2, 'd': 4, 'e': 1, 'f': 6, 'k': 0, 'l': 5}"
      ]
     },
     "execution_count": 4,
     "metadata": {},
     "output_type": "execute_result"
    }
   ],
   "source": [
    "d1"
   ]
  },
  {
   "cell_type": "code",
   "execution_count": 5,
   "id": "d3b3046c-3a68-4499-876d-d2d8db9435cd",
   "metadata": {},
   "outputs": [
    {
     "data": {
      "text/plain": [
       "{'a': 1, 'b': 2, 'c': 2, 'd': 4, 'e': 1, 'f': 6}"
      ]
     },
     "execution_count": 5,
     "metadata": {},
     "output_type": "execute_result"
    }
   ],
   "source": [
    "# 4\n",
    "d3 = {k:v for k,v in d.items()}\n",
    "d3"
   ]
  },
  {
   "cell_type": "code",
   "execution_count": 1,
   "id": "bb674f98-6507-4f3c-811f-d3b46027aa6f",
   "metadata": {},
   "outputs": [
    {
     "name": "stdout",
     "output_type": "stream",
     "text": [
      "OrderedDict([('x', 0), ('a', 1), ('b', 2), ('c', 3)])\n"
     ]
    }
   ],
   "source": [
    "# 5\n",
    "from collections import OrderedDict\n",
    "\n",
    "def insert_at_beginning(od, key, value):\n",
    "    new_od = OrderedDict()\n",
    "    new_od[key] = value\n",
    "    for k, v in od.items():\n",
    "        new_od[k] = v\n",
    "    return new_od\n",
    "\n",
    "od = OrderedDict([('a', 1), ('b', 2), ('c', 3)])\n",
    "od = insert_at_beginning(od, 'x', 0)\n",
    "print(od)"
   ]
  },
  {
   "cell_type": "code",
   "execution_count": 10,
   "id": "3e822928-52a2-40f8-bb03-d1adea93e220",
   "metadata": {},
   "outputs": [
    {
     "name": "stdout",
     "output_type": "stream",
     "text": [
      "False\n"
     ]
    }
   ],
   "source": [
    "# 6\n",
    "from collections import OrderedDict\n",
    "\n",
    "def check_order_of_chars(string, pattern):\n",
    "    freq = OrderedDict.fromkeys(string, 0)\n",
    "    \n",
    "    for char in string:\n",
    "        freq[char] += 1\n",
    "    \n",
    "    index = 0\n",
    "    for char in pattern:\n",
    "        if char not in freq or freq[char] == 0 or char != string[index]:\n",
    "            return False\n",
    "        \n",
    "        index += freq[char]\n",
    "    \n",
    "    return True\n",
    "\n",
    "string = \"hello world\"\n",
    "pattern = \"hlo\"\n",
    "print(check_order_of_chars(string, pattern)) "
   ]
  },
  {
   "cell_type": "code",
   "execution_count": 11,
   "id": "9942369e-113b-4f0e-8d43-b6d2ae454875",
   "metadata": {},
   "outputs": [
    {
     "name": "stdout",
     "output_type": "stream",
     "text": [
      "{'apple': 5, 'banana': 3, 'kiwi': 4, 'orange': 2}\n"
     ]
    }
   ],
   "source": [
    "# 7\n",
    "d = {'apple': 5, 'banana': 3, 'orange': 2, 'kiwi': 4}\n",
    "sorted_dict = dict(sorted(d.items()))\n",
    "\n",
    "print(sorted_dict)\n"
   ]
  }
 ],
 "metadata": {
  "kernelspec": {
   "display_name": "Python 3 (ipykernel)",
   "language": "python",
   "name": "python3"
  },
  "language_info": {
   "codemirror_mode": {
    "name": "ipython",
    "version": 3
   },
   "file_extension": ".py",
   "mimetype": "text/x-python",
   "name": "python",
   "nbconvert_exporter": "python",
   "pygments_lexer": "ipython3",
   "version": "3.10.6"
  }
 },
 "nbformat": 4,
 "nbformat_minor": 5
}
