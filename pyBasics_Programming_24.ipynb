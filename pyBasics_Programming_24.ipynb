{
 "cells": [
  {
   "cell_type": "markdown",
   "id": "8a671301-a6b9-43e7-8b83-372e0bd55013",
   "metadata": {},
   "source": [
    "Question1: Create a function that takes an integer and returns a list from 1 to the given number, where:\n",
    "\n",
    "    1. If the number can be divided evenly by 4, amplify it by 10 (i.e. return 10 times the\n",
    "    number).\n",
    "    2. If the number cannot be divided evenly by 4, simply return the number.\n",
    "Examples\n",
    "\n",
    "    amplify(4) ➞ [1, 2, 3, 40]\n",
    "    amplify(3) ➞ [1, 2, 3]\n",
    "    amplify(25) ➞ [1, 2, 3, 40, 5, 6, 7, 80, 9, 10, 11, 120, 13, 14, 15, 160,\n",
    "    17, 18, 19, 200, 21, 22, 23, 240, 25]\n",
    "Notes\n",
    "\n",
    "     The given integer will always be equal to or greater than 1.\n",
    "     Include the number (see example above).\n",
    "     To perform this problem with its intended purpose, try doing it with list\n",
    "    comprehensions. If that's too difficult, just solve the challenge any way you can."
   ]
  },
  {
   "cell_type": "code",
   "execution_count": 3,
   "id": "f6f7e441-057d-4435-a659-bf01eb6225f5",
   "metadata": {},
   "outputs": [
    {
     "name": "stdout",
     "output_type": "stream",
     "text": [
      "[1, 2, 3, 40, 5, 6, 7, 80, 9, 10, 11, 120, 13, 14, 15, 160, 17, 18, 19, 200, 21, 22, 23, 240, 25]\n"
     ]
    }
   ],
   "source": [
    "def amplify(n:int):\n",
    "    return [(i*10 if (i % 4 == 0) else i) for i in range (1,n+1)]\n",
    "print(amplify(25))"
   ]
  },
  {
   "cell_type": "markdown",
   "id": "0ac7deec-b765-4f94-882e-4a1a71c10e83",
   "metadata": {},
   "source": [
    "Question2: Create a function that takes a list of numbers and return the number that's unique.\n",
    "\n",
    "Examples\n",
    "\n",
    "    unique([3, 3, 3, 7, 3, 3]) ➞ 7\n",
    "    unique([0, 0, 0.77, 0, 0]) ➞ 0.77\n",
    "    unique([0, 1, 1, 1, 1, 1, 1, 1]) ➞ 0\n",
    "Notes: test cases will always have exactly one unique number while all others are the same."
   ]
  },
  {
   "cell_type": "code",
   "execution_count": 7,
   "id": "d2b6387f-8526-406b-ba78-a51743639700",
   "metadata": {},
   "outputs": [
    {
     "name": "stdout",
     "output_type": "stream",
     "text": [
      "7\n"
     ]
    }
   ],
   "source": [
    "def unique(l):\n",
    "    d = {x : l.count(x) for x in set(l)}\n",
    "    return [n for n, f in d.items() if f==1]\n",
    "print(*unique([3, 3, 3, 7, 3, 3]))"
   ]
  },
  {
   "cell_type": "markdown",
   "id": "117f239b-67f3-4cff-a3fb-6e7afb54d298",
   "metadata": {},
   "source": [
    "Question3: Your task is to create a Circle constructor that creates a circle with a radius provided by an argument. The circles constructed must have two getters getArea() (PIr^2) and getPerimeter() (2PI*r) which give both respective areas and perimeter (circumference).\n",
    "\n",
    "For help with this class, I have provided you with a Rectangle constructor which you can use as a base example.\n",
    "\n",
    "Examples\n",
    "\n",
    "    circy = Circle(11)\n",
    "    circy.getArea()\n",
    "    # Should return 380.132711084365\n",
    "    circy = Circle(4.44)\n",
    "    circy.getPerimeter()\n",
    "    # Should return 27.897342763877365\n",
    "Notes: Round results up to the nearest integer."
   ]
  },
  {
   "cell_type": "code",
   "execution_count": 12,
   "id": "3b12363c-0f11-4b53-8bfa-ce2e89992c5a",
   "metadata": {},
   "outputs": [
    {
     "data": {
      "text/plain": [
       "380.0"
      ]
     },
     "execution_count": 12,
     "metadata": {},
     "output_type": "execute_result"
    }
   ],
   "source": [
    "class Circle:\n",
    "    def __init__(self, r):\n",
    "        self.__radius = r\n",
    "        self.__area=round((22/7) * (self.__radius**2), 0)\n",
    "        self.__perimeter= round(2*(22/7)*self.__radius, 0)\n",
    "    @property\n",
    "    def getArea(self):\n",
    "        return self.__area\n",
    "    @property\n",
    "    def getPerimeter(self):\n",
    "        return self.__perimeter\n",
    "\n",
    "circy = Circle(11)\n",
    "circy.getArea"
   ]
  },
  {
   "cell_type": "markdown",
   "id": "99efccb0-0dd5-40d1-b462-a2ea08f6857b",
   "metadata": {},
   "source": [
    "Question4: Create a function that takes a list of strings and return a list, sorted from shortest to longest.\n",
    "\n",
    "Examples\n",
    "\n",
    "    sort_by_length([\"Google\", \"Apple\", \"Microsoft\"])\n",
    "    ➞ [\"Apple\", \"Google\", \"Microsoft\"]\n",
    "    sort_by_length([\"Leonardo\", \"Michelangelo\", \"Raphael\", \"Donatello\"])\n",
    "    ➞ [\"Raphael\", \"Leonardo\", \"Donatello\", \"Michelangelo\"]\n",
    "    sort_by_length([\"Turing\", \"Einstein\", \"Jung\"])\n",
    "    ➞ [\"Jung\", \"Turing\", \"Einstein\"]\n",
    "Notes: All test cases contain lists with strings of different lengths, so you won't have to deal with multiple strings of the same length."
   ]
  },
  {
   "cell_type": "code",
   "execution_count": 13,
   "id": "4eec4341-bdef-4788-9c56-ee7b6ce40d01",
   "metadata": {},
   "outputs": [
    {
     "data": {
      "text/plain": [
       "['Apple', 'Google', 'Microsoft']"
      ]
     },
     "execution_count": 13,
     "metadata": {},
     "output_type": "execute_result"
    }
   ],
   "source": [
    "def sort_by_length(l:list):\n",
    "    return sorted(l, key=len)\n",
    "sort_by_length([\"Google\", \"Apple\", \"Microsoft\"])"
   ]
  },
  {
   "cell_type": "markdown",
   "id": "355f1952-0a45-47ae-85d1-40c572494ab2",
   "metadata": {},
   "source": [
    "Question5: Create a function that validates whether three given integers form a Pythagorean triplet. The sum of the squares of the two smallest integers must equal the square of the largest number to be validated.\n",
    "\n",
    "Examples\n",
    "\n",
    "    is_triplet(3, 4, 5) ➞ True\n",
    "    # 3² + 4² = 25\n",
    "    # 5² = 25\n",
    "    is_triplet(13, 5, 12) ➞ True\n",
    "    # 5² + 12² = 169\n",
    "    # 13² = 169\n",
    "    is_triplet(1, 2, 3) ➞ False\n",
    "    # 1² + 2² = 5\n",
    "    # 3² = 9\n",
    "Notes: Numbers may not be given in a sorted order."
   ]
  },
  {
   "cell_type": "code",
   "execution_count": 19,
   "id": "fb5da43a-bb05-4036-ac9c-14d11c22e0f3",
   "metadata": {},
   "outputs": [
    {
     "data": {
      "text/plain": [
       "True"
      ]
     },
     "execution_count": 19,
     "metadata": {},
     "output_type": "execute_result"
    }
   ],
   "source": [
    "def is_triplet(*l):\n",
    "    l=list(l)\n",
    "    h=max(l)\n",
    "    l.remove(h)\n",
    "    a,b=l\n",
    "    return (a**2) + (b**2) == (h**2)\n",
    "is_triplet(3,4,5)"
   ]
  },
  {
   "cell_type": "code",
   "execution_count": null,
   "id": "224d57d8-08df-447f-9b72-b65726cd118d",
   "metadata": {},
   "outputs": [],
   "source": []
  }
 ],
 "metadata": {
  "kernelspec": {
   "display_name": "Python 3 (ipykernel)",
   "language": "python",
   "name": "python3"
  },
  "language_info": {
   "codemirror_mode": {
    "name": "ipython",
    "version": 3
   },
   "file_extension": ".py",
   "mimetype": "text/x-python",
   "name": "python",
   "nbconvert_exporter": "python",
   "pygments_lexer": "ipython3",
   "version": "3.10.6"
  }
 },
 "nbformat": 4,
 "nbformat_minor": 5
}
