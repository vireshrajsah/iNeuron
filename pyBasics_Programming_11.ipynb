{
 "cells": [
  {
   "cell_type": "markdown",
   "id": "605893fc-d55d-49f6-ad41-3cc71ca23b8a",
   "metadata": {},
   "source": [
    "1. Write a Python program to find words which are greater than given length k?\n",
    "2. Write a Python program for removing i-th character from a string?\n",
    "3. Write a Python program to split and join a string?\n",
    "4. Write a Python to check if a given string is binary string or not?\n",
    "5. Write a Python program to find uncommon words from two Strings?\n",
    "6. Write a Python to find all duplicate characters in string?\n",
    "7. Write a Python Program to check if a string contains any special character?"
   ]
  },
  {
   "cell_type": "code",
   "execution_count": 1,
   "id": "f7b8e94a-29eb-44ba-af42-20808b803544",
   "metadata": {},
   "outputs": [
    {
     "name": "stdout",
     "output_type": "stream",
     "text": [
      "['Bengaluru', 'beautiful']\n"
     ]
    }
   ],
   "source": [
    "# 1\n",
    "maxlen= 5\n",
    "words= 'Bengaluru is a beautiful city'.split(' ')\n",
    "print([i for i in words if len(i) >= maxlen])"
   ]
  },
  {
   "cell_type": "code",
   "execution_count": 4,
   "id": "882f9fc7-6ab8-4bdf-86b9-7ed01710d68d",
   "metadata": {},
   "outputs": [
    {
     "data": {
      "text/plain": [
       "'Bengauru'"
      ]
     },
     "execution_count": 4,
     "metadata": {},
     "output_type": "execute_result"
    }
   ],
   "source": [
    "# 2\n",
    "i = 5\n",
    "word = 'Bengaluru'\n",
    "word[:i]+word[i+1:]"
   ]
  },
  {
   "cell_type": "code",
   "execution_count": 6,
   "id": "4c76427a-11cb-452f-9de9-0eaf56ab85ef",
   "metadata": {},
   "outputs": [
    {
     "data": {
      "text/plain": [
       "'Bengaluru,is,a,beautiful,city'"
      ]
     },
     "execution_count": 6,
     "metadata": {},
     "output_type": "execute_result"
    }
   ],
   "source": [
    "# 3\n",
    "s= 'Bengaluru is a beautiful city'\n",
    "','.join(s.split(' '))"
   ]
  },
  {
   "cell_type": "code",
   "execution_count": 9,
   "id": "cd88a37a-35b1-409f-a67a-ec132b8e9ad5",
   "metadata": {},
   "outputs": [
    {
     "data": {
      "text/plain": [
       "True"
      ]
     },
     "execution_count": 9,
     "metadata": {},
     "output_type": "execute_result"
    }
   ],
   "source": [
    "# 4\n",
    "def checkbinary(s):\n",
    "    if len(set(s)) ==2:\n",
    "        return True\n",
    "    else: return False\n",
    "checkbinary('onono')"
   ]
  },
  {
   "cell_type": "code",
   "execution_count": 10,
   "id": "43a6e0aa-547e-4639-94e7-32a4ed94b324",
   "metadata": {},
   "outputs": [
    {
     "data": {
      "text/plain": [
       "['Bengaluru', 'coastal', 'Visakhapatnam']"
      ]
     },
     "execution_count": 10,
     "metadata": {},
     "output_type": "execute_result"
    }
   ],
   "source": [
    "# 5\n",
    "def checkuncommon(s1, s2):\n",
    "    return list(set(s1.split(' ')).symmetric_difference(set(s2.split(' '))))\n",
    "\n",
    "s1='Bengaluru is a beautiful city'\n",
    "s2='Visakhapatnam is a beautiful coastal city'\n",
    "checkuncommon(s1, s2)"
   ]
  },
  {
   "cell_type": "code",
   "execution_count": 12,
   "id": "6880dac3-7919-40cb-b637-9708ba371155",
   "metadata": {},
   "outputs": [
    {
     "name": "stdout",
     "output_type": "stream",
     "text": [
      "['e', 'a', 'l', 'u', 'u', ' ', 'i', ' ', 'a', ' ', 'e', 'a', 'u', 't', 'i', 'u', 'l', ' ', 'i', 't']\n"
     ]
    }
   ],
   "source": [
    "# 6\n",
    "s = s1\n",
    "print([i for i in s if s.count(i)>1])"
   ]
  },
  {
   "cell_type": "code",
   "execution_count": 21,
   "id": "463fce77-fbf7-4b8c-abea-06fe38d2c13e",
   "metadata": {},
   "outputs": [
    {
     "data": {
      "text/plain": [
       "True"
      ]
     },
     "execution_count": 21,
     "metadata": {},
     "output_type": "execute_result"
    }
   ],
   "source": [
    "# 7\n",
    "import re\n",
    "s = s1\n",
    "len(re.findall(r'(\\W)', s))>0"
   ]
  },
  {
   "cell_type": "code",
   "execution_count": 22,
   "id": "c1ec3a23-81e8-4f6a-bbd1-74c742dca7a1",
   "metadata": {},
   "outputs": [
    {
     "data": {
      "text/plain": [
       "True"
      ]
     },
     "execution_count": 22,
     "metadata": {},
     "output_type": "execute_result"
    }
   ],
   "source": [
    "len([i for i in s if not i.isalnum()])>0"
   ]
  },
  {
   "cell_type": "code",
   "execution_count": null,
   "id": "472bcfcb-7a16-496f-aa44-a4c75cca9ed9",
   "metadata": {},
   "outputs": [],
   "source": []
  }
 ],
 "metadata": {
  "kernelspec": {
   "display_name": "Python 3 (ipykernel)",
   "language": "python",
   "name": "python3"
  },
  "language_info": {
   "codemirror_mode": {
    "name": "ipython",
    "version": 3
   },
   "file_extension": ".py",
   "mimetype": "text/x-python",
   "name": "python",
   "nbconvert_exporter": "python",
   "pygments_lexer": "ipython3",
   "version": "3.10.6"
  }
 },
 "nbformat": 4,
 "nbformat_minor": 5
}
