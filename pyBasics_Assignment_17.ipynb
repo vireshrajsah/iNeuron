{
 "cells": [
  {
   "cell_type": "markdown",
   "id": "1cff09cb-142e-4fe4-a635-379f5b897525",
   "metadata": {},
   "source": [
    "1. Assign the value 7 to the variable guess_me. Then, write the conditional tests (if, else, and elif) to\n",
    "print the string 'too low' if guess_me is less than 7, 'too high' if greater than 7, and 'just right' if equal\n",
    "to 7."
   ]
  },
  {
   "cell_type": "code",
   "execution_count": 3,
   "id": "8f7449db-2b68-4f41-931b-5454125c33b5",
   "metadata": {},
   "outputs": [],
   "source": [
    "guess_me=7"
   ]
  },
  {
   "cell_type": "code",
   "execution_count": 4,
   "id": "f738ef27-2033-4024-8bbc-47c96ec13f79",
   "metadata": {},
   "outputs": [
    {
     "name": "stdout",
     "output_type": "stream",
     "text": [
      "just right\n"
     ]
    }
   ],
   "source": [
    "if guess_me>7:print('too high')\n",
    "elif guess_me==7:print('just right')\n",
    "else: print('too low')"
   ]
  },
  {
   "cell_type": "markdown",
   "id": "d5346d80-2861-4dc2-abb3-4cc6bdc9e32e",
   "metadata": {},
   "source": [
    "2. Assign the value 7 to the variable guess_me and the value 1 to the variable start. Write a while\n",
    "loop that compares start with guess_me. Print too low if start is less than guess me. If start equals\n",
    "guess_me, print 'found it!' and exit the loop. If start is greater than guess_me, print 'oops' and exit\n",
    "the loop. Increment start at the end of the loop."
   ]
  },
  {
   "cell_type": "code",
   "execution_count": 5,
   "id": "df7c21a2-0b96-4d2a-ae73-371887069c6d",
   "metadata": {},
   "outputs": [],
   "source": [
    "guess_me=7\n",
    "start=1"
   ]
  },
  {
   "cell_type": "code",
   "execution_count": 6,
   "id": "e0d52f1a-9b37-4343-82c4-fe6ef04e61db",
   "metadata": {},
   "outputs": [
    {
     "name": "stdout",
     "output_type": "stream",
     "text": [
      "too low\n",
      "too low\n",
      "too low\n",
      "too low\n",
      "too low\n",
      "found it!\n",
      "oops\n"
     ]
    }
   ],
   "source": [
    "while start<=guess_me:\n",
    "    start+=1\n",
    "    if start>guess_me:print('oops')\n",
    "    elif start==guess_me:print('found it!')\n",
    "    else: print('too low')"
   ]
  },
  {
   "cell_type": "markdown",
   "id": "4e1b324c-fd36-4c8f-83d9-265b39f4a373",
   "metadata": {},
   "source": [
    "3. Print the following values of the list [3, 2, 1, 0] using a for loop."
   ]
  },
  {
   "cell_type": "code",
   "execution_count": 13,
   "id": "abfd0b0d-4df5-4ff1-8dc4-bd2086bfcb34",
   "metadata": {},
   "outputs": [
    {
     "name": "stdout",
     "output_type": "stream",
     "text": [
      "3\n",
      "2\n",
      "1\n",
      "0\n"
     ]
    }
   ],
   "source": [
    "for i in range (3,-1,-1):\n",
    "    print(i)"
   ]
  },
  {
   "cell_type": "code",
   "execution_count": 11,
   "id": "2ae5a042-2600-40b7-8266-923c57c5a58a",
   "metadata": {},
   "outputs": [
    {
     "data": {
      "text/plain": [
       "[4, 3, 2, 1]"
      ]
     },
     "execution_count": 11,
     "metadata": {},
     "output_type": "execute_result"
    }
   ],
   "source": [
    "list(range (4,0,-1))"
   ]
  },
  {
   "cell_type": "markdown",
   "id": "6a174dd9-bc38-4dc8-b5ac-788639da3023",
   "metadata": {},
   "source": [
    "4. Use a list comprehension to make a list of the even numbers in range(10)"
   ]
  },
  {
   "cell_type": "code",
   "execution_count": 18,
   "id": "64a3cadc-b609-4f47-9c33-26894a792f45",
   "metadata": {},
   "outputs": [
    {
     "data": {
      "text/plain": [
       "[0, 2, 4, 6, 8]"
      ]
     },
     "execution_count": 18,
     "metadata": {},
     "output_type": "execute_result"
    }
   ],
   "source": [
    "[i for i in range (10) if i % 2 == 0]"
   ]
  },
  {
   "cell_type": "markdown",
   "id": "42131630-f1c6-4a66-becf-4c413ffd1f0f",
   "metadata": {},
   "source": [
    "5. Use a dictionary comprehension to create the dictionary squares. Use range(10) to return the keys, and use the square of each key as its value."
   ]
  },
  {
   "cell_type": "code",
   "execution_count": 19,
   "id": "c7c77dcd-25bd-4637-b8c2-b50ef1537b9d",
   "metadata": {},
   "outputs": [
    {
     "data": {
      "text/plain": [
       "{0: 0, 1: 1, 2: 4, 3: 9, 4: 16, 5: 25, 6: 36, 7: 49, 8: 64, 9: 81}"
      ]
     },
     "execution_count": 19,
     "metadata": {},
     "output_type": "execute_result"
    }
   ],
   "source": [
    "{i:i**2 for i in range (10)}"
   ]
  },
  {
   "cell_type": "markdown",
   "id": "6a83ddcb-a0d7-4cca-8c25-cb55a0acc196",
   "metadata": {},
   "source": [
    "6. Construct the set odd from the odd numbers in the range using a set comprehension (10)."
   ]
  },
  {
   "cell_type": "code",
   "execution_count": 1,
   "id": "a59b01b7-8094-4c8a-a5fb-49ba11579287",
   "metadata": {},
   "outputs": [
    {
     "data": {
      "text/plain": [
       "{0, 2, 4, 6, 8}"
      ]
     },
     "execution_count": 1,
     "metadata": {},
     "output_type": "execute_result"
    }
   ],
   "source": [
    "odd= {i for i in range(10) if i % 2 == 0}\n",
    "odd"
   ]
  },
  {
   "cell_type": "markdown",
   "id": "615ab842-0944-4bc2-b660-6ff8bbfec4d8",
   "metadata": {},
   "source": [
    "7. Use a generator comprehension to return the string 'Got ' and a number for the numbers in range(10). Iterate through this by using a for loop."
   ]
  },
  {
   "cell_type": "code",
   "execution_count": 5,
   "id": "1c2ec3d1-7c13-421d-9080-2131e5f4c8a0",
   "metadata": {},
   "outputs": [
    {
     "name": "stdout",
     "output_type": "stream",
     "text": [
      "Got 0\n",
      "Got 1\n",
      "Got 2\n",
      "Got 3\n",
      "Got 4\n",
      "Got 5\n",
      "Got 6\n",
      "Got 7\n",
      "Got 8\n",
      "Got 9\n"
     ]
    }
   ],
   "source": [
    "k= ('Got '+ str(i) for i in range(10))\n",
    "\n",
    "for i in range(10):\n",
    "    print (next (k))"
   ]
  },
  {
   "cell_type": "markdown",
   "id": "2ff0eebe-b2d1-4102-943a-2b9e192c1a07",
   "metadata": {},
   "source": [
    "8. Define a function called good that returns the list ['Harry', 'Ron', 'Hermione']."
   ]
  },
  {
   "cell_type": "code",
   "execution_count": 6,
   "id": "f1afe639-b792-41b8-b7ed-5437c5653cd8",
   "metadata": {},
   "outputs": [],
   "source": [
    "def good():\n",
    "    l=['Harry', 'Ron', 'Hermione']\n",
    "    return l"
   ]
  },
  {
   "cell_type": "code",
   "execution_count": 7,
   "id": "f27bd809-f4bd-4d70-a2c0-116c769480ab",
   "metadata": {},
   "outputs": [
    {
     "data": {
      "text/plain": [
       "['Harry', 'Ron', 'Hermione']"
      ]
     },
     "execution_count": 7,
     "metadata": {},
     "output_type": "execute_result"
    }
   ],
   "source": [
    "good()"
   ]
  },
  {
   "cell_type": "markdown",
   "id": "11a717cf-e675-43ac-9bf1-5963112c2f19",
   "metadata": {},
   "source": [
    "9. Define a generator function called get_odds that returns the odd numbers from range(10). Use a for loop to find and print the third value returned."
   ]
  },
  {
   "cell_type": "code",
   "execution_count": 22,
   "id": "6a2e79c8-7295-4f02-a368-f33734481bf3",
   "metadata": {},
   "outputs": [],
   "source": [
    "def get_odds():\n",
    "    for i in range(1,10,2):\n",
    "        yield i"
   ]
  },
  {
   "cell_type": "code",
   "execution_count": 27,
   "id": "bdab0f56-885d-4c92-8a8e-23369cfe36ed",
   "metadata": {},
   "outputs": [
    {
     "name": "stdout",
     "output_type": "stream",
     "text": [
      "5\n"
     ]
    }
   ],
   "source": [
    "count=1\n",
    "for i in get_odds():\n",
    "    if count==3:\n",
    "        print(i)\n",
    "    count+=1"
   ]
  },
  {
   "cell_type": "markdown",
   "id": "72c1b322-151b-4094-9265-b88ce4a24c57",
   "metadata": {},
   "source": [
    "10. Define an exception called OopsException. Raise this exception to see what happens. Then write the code to catch this exception and print 'Caught an oops'."
   ]
  },
  {
   "cell_type": "code",
   "execution_count": 32,
   "id": "273723e7-65de-49de-9ad5-6fca8ca329c2",
   "metadata": {},
   "outputs": [
    {
     "ename": "OopsException",
     "evalue": "Something went wrong",
     "output_type": "error",
     "traceback": [
      "\u001b[0;31m---------------------------------------------------------------------------\u001b[0m",
      "\u001b[0;31mOopsException\u001b[0m                             Traceback (most recent call last)",
      "Cell \u001b[0;32mIn [32], line 4\u001b[0m\n\u001b[1;32m      1\u001b[0m \u001b[38;5;28;01mclass\u001b[39;00m \u001b[38;5;21;01mOopsException\u001b[39;00m(\u001b[38;5;167;01mException\u001b[39;00m):\n\u001b[1;32m      2\u001b[0m     \u001b[38;5;28;01mpass\u001b[39;00m\n\u001b[0;32m----> 4\u001b[0m \u001b[38;5;28;01mraise\u001b[39;00m OopsException(\u001b[38;5;124m\"\u001b[39m\u001b[38;5;124mSomething went wrong\u001b[39m\u001b[38;5;124m\"\u001b[39m)\n",
      "\u001b[0;31mOopsException\u001b[0m: Something went wrong"
     ]
    }
   ],
   "source": [
    "class OopsException(Exception):\n",
    "    pass\n",
    "\n",
    "raise OopsException(\"Something went wrong\")"
   ]
  },
  {
   "cell_type": "code",
   "execution_count": 33,
   "id": "42bb70a6-3cdf-45ec-8a2d-229993a3ba04",
   "metadata": {},
   "outputs": [
    {
     "name": "stdout",
     "output_type": "stream",
     "text": [
      "Caught an oops\n"
     ]
    }
   ],
   "source": [
    "try:\n",
    "    raise OopsException\n",
    "    pass\n",
    "except OopsException:\n",
    "    print('Caught an oops')\n"
   ]
  },
  {
   "cell_type": "markdown",
   "id": "bed49bfe-4d2c-4952-81a0-28bc52611bbd",
   "metadata": {},
   "source": [
    "11. Use zip() to make a dictionary called movies that pairs these lists: <br>\n",
    "titles = ['Creature of Habit', 'Crewel Fate'] and plots = ['A nun turns into a monster', 'A haunted yarn shop']."
   ]
  },
  {
   "cell_type": "code",
   "execution_count": 34,
   "id": "717d0077-670e-4abd-b90e-4a46417a6e3d",
   "metadata": {},
   "outputs": [
    {
     "data": {
      "text/plain": [
       "{'Creature of Habit': 'A nun turns into a monster',\n",
       " 'Crewel Fate': 'A haunted yarn shop'}"
      ]
     },
     "execution_count": 34,
     "metadata": {},
     "output_type": "execute_result"
    }
   ],
   "source": [
    "titles = ['Creature of Habit', 'Crewel Fate']\n",
    "plots = ['A nun turns into a monster', 'A haunted yarn shop']\n",
    "\n",
    "film_plots= dict(zip(titles,plots))\n",
    "film_plots"
   ]
  }
 ],
 "metadata": {
  "kernelspec": {
   "display_name": "Python 3 (ipykernel)",
   "language": "python",
   "name": "python3"
  },
  "language_info": {
   "codemirror_mode": {
    "name": "ipython",
    "version": 3
   },
   "file_extension": ".py",
   "mimetype": "text/x-python",
   "name": "python",
   "nbconvert_exporter": "python",
   "pygments_lexer": "ipython3",
   "version": "3.10.6"
  }
 },
 "nbformat": 4,
 "nbformat_minor": 5
}
