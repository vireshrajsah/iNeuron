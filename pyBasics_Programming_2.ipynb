{
 "cells": [
  {
   "cell_type": "markdown",
   "id": "fc52738f-c590-41e6-8bda-a9dedbe3c8ce",
   "metadata": {},
   "source": [
    "1. Write a Python program to convert kilometers to miles?\n",
    "2. Write a Python program to convert Celsius to Fahrenheit?\n",
    "3. Write a Python program to display calendar?\n",
    "4. Write a Python program to solve quadratic equation?\n",
    "5. Write a Python program to swap two variables without temp variable?"
   ]
  },
  {
   "cell_type": "code",
   "execution_count": 1,
   "id": "c464614c-ffc8-4af7-818f-3ead623ea433",
   "metadata": {},
   "outputs": [
    {
     "name": "stdout",
     "output_type": "stream",
     "text": [
      "118.06049\n"
     ]
    }
   ],
   "source": [
    "# 1\n",
    "km=190\n",
    "miles= km * 0.621371\n",
    "print(miles)"
   ]
  },
  {
   "cell_type": "code",
   "execution_count": 3,
   "id": "6f9cd91e-4a55-4373-b00d-1597c38d9379",
   "metadata": {},
   "outputs": [
    {
     "name": "stdout",
     "output_type": "stream",
     "text": [
      "77.0\n"
     ]
    }
   ],
   "source": [
    "# 2\n",
    "c=25\n",
    "f= (c*9/5)+32\n",
    "print(f)"
   ]
  },
  {
   "cell_type": "code",
   "execution_count": 4,
   "id": "8b4d088b-c007-4e11-a9d9-93545d972a8c",
   "metadata": {},
   "outputs": [
    {
     "name": "stdout",
     "output_type": "stream",
     "text": [
      "    August 1996\n",
      "Mo Tu We Th Fr Sa Su\n",
      "          1  2  3  4\n",
      " 5  6  7  8  9 10 11\n",
      "12 13 14 15 16 17 18\n",
      "19 20 21 22 23 24 25\n",
      "26 27 28 29 30 31\n",
      "\n"
     ]
    }
   ],
   "source": [
    "# 3\n",
    "import calendar\n",
    "\n",
    "year = 1996\n",
    "month = 8\n",
    "\n",
    "print(calendar.month(year, month))"
   ]
  },
  {
   "cell_type": "code",
   "execution_count": 9,
   "id": "dfba180a-92af-4fcf-8c3d-2726bf4ec0db",
   "metadata": {},
   "outputs": [
    {
     "name": "stdin",
     "output_type": "stream",
     "text": [
      "Enter coeff of x^2:  2\n",
      "Enter coeff of x:  3\n",
      "Enter constant:  1\n"
     ]
    },
    {
     "data": {
      "text/plain": [
       "(-2.0, -4.0)"
      ]
     },
     "execution_count": 9,
     "metadata": {},
     "output_type": "execute_result"
    }
   ],
   "source": [
    "# 4\n",
    "a= float(input('Enter coeff of x^2: '))\n",
    "b= float(input('Enter coeff of x: '))\n",
    "c= float(input('Enter constant: '))\n",
    "\n",
    "d= b**2 - 4*a*c\n",
    "\n",
    "c1= (-b + (d)**(1/2))/2*a\n",
    "c2= (-b - (d)**(1/2))/2*a\n",
    "\n",
    "c1,c2"
   ]
  },
  {
   "cell_type": "code",
   "execution_count": 11,
   "id": "5e4386de-5628-4240-8e09-58021d892563",
   "metadata": {},
   "outputs": [
    {
     "name": "stdin",
     "output_type": "stream",
     "text": [
      "Enter a variable:  23\n",
      "Enter another variable:  98\n"
     ]
    },
    {
     "name": "stdout",
     "output_type": "stream",
     "text": [
      "Entered :  23 98\n",
      "Swapped :  98 23\n"
     ]
    }
   ],
   "source": [
    "# 5\n",
    "a= input('Enter a variable: ')\n",
    "b= input('Enter another variable: ')\n",
    "\n",
    "print('Entered : ', a, b)\n",
    "a,b=b,a\n",
    "print('Swapped : ', a, b)"
   ]
  },
  {
   "cell_type": "code",
   "execution_count": null,
   "id": "a63fc376-10d9-43b4-80b7-fa884007039b",
   "metadata": {},
   "outputs": [],
   "source": []
  }
 ],
 "metadata": {
  "kernelspec": {
   "display_name": "Python 3 (ipykernel)",
   "language": "python",
   "name": "python3"
  },
  "language_info": {
   "codemirror_mode": {
    "name": "ipython",
    "version": 3
   },
   "file_extension": ".py",
   "mimetype": "text/x-python",
   "name": "python",
   "nbconvert_exporter": "python",
   "pygments_lexer": "ipython3",
   "version": "3.10.6"
  }
 },
 "nbformat": 4,
 "nbformat_minor": 5
}
