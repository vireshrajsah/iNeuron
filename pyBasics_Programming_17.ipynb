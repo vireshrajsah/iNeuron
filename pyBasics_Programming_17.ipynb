{
 "cells": [
  {
   "cell_type": "markdown",
   "id": "95346ea8-d2d3-464a-9196-d68405f027f8",
   "metadata": {},
   "source": [
    "Question1. Create a function that takes three arguments a, b, c and returns the sum of the numbers that are evenly divided by c from the range a, b inclusive.\n",
    "\n",
    "Examples\n",
    "\n",
    "    evenly_divisible(1, 10, 20) ➞ 0\n",
    "    # No number between 1 and 10 can be evenly divided by 20.\n",
    "    evenly_divisible(1, 10, 2) ➞ 30\n",
    "    # 2 + 4 + 6 + 8 + 10 = 30\n",
    "    evenly_divisible(1, 10, 3) ➞ 18\n",
    "    # 3 + 6 + 9 = 18"
   ]
  },
  {
   "cell_type": "code",
   "execution_count": 3,
   "id": "7023a0e6-43d5-49cc-aa36-ef64f218ca1a",
   "metadata": {},
   "outputs": [],
   "source": [
    "def evenly_divisible(a,b,c):\n",
    "    return sum([i for i in range(a,b+1) if i % c == 0])"
   ]
  },
  {
   "cell_type": "code",
   "execution_count": 4,
   "id": "7af26e17-a577-41fb-a801-52b3a85f7c8b",
   "metadata": {},
   "outputs": [
    {
     "data": {
      "text/plain": [
       "30"
      ]
     },
     "execution_count": 4,
     "metadata": {},
     "output_type": "execute_result"
    }
   ],
   "source": [
    "evenly_divisible(1,10,2)"
   ]
  },
  {
   "cell_type": "markdown",
   "id": "e5d98be0-d044-4eaa-a53f-1d762aeabf28",
   "metadata": {},
   "source": [
    "Question2. Create a function that returns True if a given inequality expression is correct and False otherwise.\n",
    "\n",
    "Examples\n",
    "\n",
    "    correct_signs(\"3 < 7 < 11\") ➞ True\n",
    "    correct_signs(\"13 > 44 > 33 > 1\") ➞ False\n",
    "    correct_signs(\"1 < 2 < 6 < 9 > 3\") ➞ True"
   ]
  },
  {
   "cell_type": "code",
   "execution_count": 7,
   "id": "c5b42dec-541f-4dae-b3bf-1b449683deb3",
   "metadata": {},
   "outputs": [
    {
     "name": "stdin",
     "output_type": "stream",
     "text": [
      "Enter expression:  3<7<11\n"
     ]
    },
    {
     "data": {
      "text/plain": [
       "True"
      ]
     },
     "execution_count": 7,
     "metadata": {},
     "output_type": "execute_result"
    }
   ],
   "source": [
    "def correct_signs(s):\n",
    "    return eval(s)\n",
    "\n",
    "correct_signs(input('Enter expression: '))"
   ]
  },
  {
   "cell_type": "markdown",
   "id": "a7e1b7e3-b854-4e0f-99f5-3c1f9c2a0941",
   "metadata": {},
   "source": [
    "Question3. Create a function that replaces all the vowels in a string with a specified character.\n",
    "\n",
    "Examples\n",
    "\n",
    "    replace_vowels(\"the aardvark\", \"#\") ➞ \"th# ##rdv#rk\"\n",
    "    replace_vowels(\"minnie mouse\", \"?\") ➞ \"m?nn?? m??s?\"\n",
    "    replace_vowels(\"shakespeare\", \"*\") ➞ \"sh*k*sp**r*\""
   ]
  },
  {
   "cell_type": "code",
   "execution_count": 10,
   "id": "fc52c4b3-df3f-4c48-b181-5727f775a6cd",
   "metadata": {},
   "outputs": [],
   "source": [
    "import re\n",
    "def replace_vowels(s,r):\n",
    "    return re.sub(r'([aeiouAEIOU])', r, s)"
   ]
  },
  {
   "cell_type": "code",
   "execution_count": 11,
   "id": "a761c972-36c7-42f5-8cbf-ff6ffc098f00",
   "metadata": {},
   "outputs": [
    {
     "data": {
      "text/plain": [
       "'th# #rdv#rk'"
      ]
     },
     "execution_count": 11,
     "metadata": {},
     "output_type": "execute_result"
    }
   ],
   "source": [
    "replace_vowels('the ardvark', '#')"
   ]
  },
  {
   "cell_type": "markdown",
   "id": "79c22a71-eb28-4f44-b9a6-fa216334ea3e",
   "metadata": {},
   "source": [
    "Question4. Write a function that calculates the factorial of a number recursively.\n",
    "\n",
    "Examples\n",
    "\n",
    "    factorial(5) ➞ 120\n",
    "    factorial(3) ➞ 6\n",
    "    factorial(1) ➞ 1\n",
    "    factorial(0) ➞ 1"
   ]
  },
  {
   "cell_type": "code",
   "execution_count": 12,
   "id": "87812e34-5367-4123-adfb-ebf355f76aa3",
   "metadata": {},
   "outputs": [
    {
     "data": {
      "text/plain": [
       "120"
      ]
     },
     "execution_count": 12,
     "metadata": {},
     "output_type": "execute_result"
    }
   ],
   "source": [
    "def factorial(n):\n",
    "    if n == 0:\n",
    "        return 1\n",
    "    else:\n",
    "        return n * factorial(n - 1)\n",
    "\n",
    "factorial(5)"
   ]
  },
  {
   "cell_type": "markdown",
   "id": "ea1e4886-0f98-4e6a-9173-00ba06656dd9",
   "metadata": {},
   "source": [
    "Question 5: Hamming distance is the number of characters that differ between two strings.\n",
    "\n",
    "To illustrate:\n",
    "    \n",
    "    String1: \"abcbba\"\n",
    "    String2: \"abcbda\"\n",
    "    Hamming Distance: 1 - \"b\" vs. \"d\" is the only difference."
   ]
  },
  {
   "cell_type": "code",
   "execution_count": 15,
   "id": "5b619c99-70a1-4066-9049-27bc572f67e6",
   "metadata": {},
   "outputs": [],
   "source": [
    "def hamming_dist(s1:str,s2:str):\n",
    "    return len(set(s1).symmetric_difference(set(s2)))"
   ]
  },
  {
   "cell_type": "code",
   "execution_count": 17,
   "id": "b0a8a28b-7f0a-40f7-aa0c-4222c1736bd6",
   "metadata": {},
   "outputs": [
    {
     "data": {
      "text/plain": [
       "2"
      ]
     },
     "execution_count": 17,
     "metadata": {},
     "output_type": "execute_result"
    }
   ],
   "source": [
    "hamming_dist('abckbba', 'abcbda')"
   ]
  },
  {
   "cell_type": "markdown",
   "id": "22ad532f-63cb-440f-8e14-7662fa7dbab2",
   "metadata": {},
   "source": []
  },
  {
   "cell_type": "code",
   "execution_count": null,
   "id": "86e05af9-5cf3-49c8-b60d-36fef92c0f7b",
   "metadata": {},
   "outputs": [],
   "source": []
  }
 ],
 "metadata": {
  "kernelspec": {
   "display_name": "Python 3 (ipykernel)",
   "language": "python",
   "name": "python3"
  },
  "language_info": {
   "codemirror_mode": {
    "name": "ipython",
    "version": 3
   },
   "file_extension": ".py",
   "mimetype": "text/x-python",
   "name": "python",
   "nbconvert_exporter": "python",
   "pygments_lexer": "ipython3",
   "version": "3.10.6"
  }
 },
 "nbformat": 4,
 "nbformat_minor": 5
}
