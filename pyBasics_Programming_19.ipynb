{
 "cells": [
  {
   "cell_type": "markdown",
   "id": "5052dccf-4262-45bd-9ba2-73f8abeefca3",
   "metadata": {},
   "source": [
    "Question1: Create a function that takes a string and returns a string in which each character is repeated once.\n",
    "\n",
    "Examples\n",
    "\n",
    "    double_char(\"String\") ➞ \"SSttrriinngg\"\n",
    "    double_char(\"Hello World!\") ➞ \"HHeelllloo WWoorrlldd!!\"\n",
    "    double_char(\"1234!_ \") ➞ \"11223344!!__ \""
   ]
  },
  {
   "cell_type": "code",
   "execution_count": 1,
   "id": "9e7f6b21-6e6d-48ed-b842-bea83c1fe844",
   "metadata": {},
   "outputs": [],
   "source": [
    "def doublechar(s):\n",
    "    return ''.join([i+i for i in s])"
   ]
  },
  {
   "cell_type": "code",
   "execution_count": 2,
   "id": "b8633f60-e6ff-4482-abb7-69030f8f1006",
   "metadata": {},
   "outputs": [
    {
     "data": {
      "text/plain": [
       "'HHeelllloo  WWoorrlldd!!'"
      ]
     },
     "execution_count": 2,
     "metadata": {},
     "output_type": "execute_result"
    }
   ],
   "source": [
    "doublechar('Hello World!')"
   ]
  },
  {
   "cell_type": "markdown",
   "id": "62efc767-972b-4ef7-95a2-fe52cfec334c",
   "metadata": {},
   "source": [
    "Question2: Create a function that reverses a boolean value and returns the string \"boolean expected\" if another variable type is given.\n",
    "\n",
    "Examples\n",
    "\n",
    "    reverse(True) ➞ False\n",
    "    reverse(False) ➞ True\n",
    "    reverse(0) ➞ \"boolean expected\"\n",
    "    reverse(None) ➞ \"boolean expected\""
   ]
  },
  {
   "cell_type": "code",
   "execution_count": 5,
   "id": "67cb5f7e-464e-4292-a8f9-b0b946d5066f",
   "metadata": {},
   "outputs": [],
   "source": [
    "def reverse(b):\n",
    "    if type(b) != bool:\n",
    "        return 'boolean expected'\n",
    "    else: return not b"
   ]
  },
  {
   "cell_type": "code",
   "execution_count": 6,
   "id": "2229211b-55a8-40d3-af0d-e501183816af",
   "metadata": {},
   "outputs": [
    {
     "data": {
      "text/plain": [
       "False"
      ]
     },
     "execution_count": 6,
     "metadata": {},
     "output_type": "execute_result"
    }
   ],
   "source": [
    "reverse(True)"
   ]
  },
  {
   "cell_type": "markdown",
   "id": "6ef0fc34-3090-4fef-bf52-1e73c3feeb1a",
   "metadata": {},
   "source": [
    "Question3: Create a function that returns the thickness (in meters) of a piece of paper after folding it n number of times. The paper starts off with a thickness of 0.5mm.\n",
    "\n",
    "Examples\n",
    "\n",
    "    num_layers(1) ➞ \"0.001m\"\n",
    "    # Paper folded once is 1mm (equal to 0.001m)\n",
    "    num_layers(4) ➞ \"0.008m\"\n",
    "    # Paper folded 4 times is 8mm (equal to 0.008m)\n",
    "    num_layers(21) ➞ \"1048.576m\"\n",
    "    # Paper folded 21 times is 1048576mm (equal to 1048.576m)"
   ]
  },
  {
   "cell_type": "code",
   "execution_count": 35,
   "id": "6f0c338e-55cc-4379-8028-e27fb4846781",
   "metadata": {},
   "outputs": [],
   "source": [
    "def num_layers(n:int):\n",
    "    t = 0.5 / (10**3)\n",
    "    return t*(n*2)"
   ]
  },
  {
   "cell_type": "code",
   "execution_count": 37,
   "id": "e3aad633-8ccb-4a8a-aecc-e12c86783113",
   "metadata": {},
   "outputs": [
    {
     "data": {
      "text/plain": [
       "0.004"
      ]
     },
     "execution_count": 37,
     "metadata": {},
     "output_type": "execute_result"
    }
   ],
   "source": [
    "num_layers(4)"
   ]
  },
  {
   "cell_type": "markdown",
   "id": "72397cbb-c3ce-421f-8955-bf93c484f6ce",
   "metadata": {},
   "source": [
    "Question4: Create a function that takes a single string as argument and returns an ordered list containing the indices of all capital letters in the string.\n",
    "\n",
    "Examples\n",
    "\n",
    "    index_of_caps(\"eDaBiT\") ➞ [1, 3, 5]\n",
    "    index_of_caps(\"eQuINoX\") ➞ [1, 3, 4, 6]\n",
    "    index_of_caps(\"determine\") ➞ []\n",
    "    index_of_caps(\"STRIKE\") ➞ [0, 1, 2, 3, 4, 5]\n",
    "    index_of_caps(\"sUn\") ➞ [1]"
   ]
  },
  {
   "cell_type": "code",
   "execution_count": 38,
   "id": "8f67e4e3-aa09-4072-bdc3-44afda0dba66",
   "metadata": {},
   "outputs": [],
   "source": [
    "def indcap(s:str):\n",
    "    return [n for n,i in enumerate(s) if i.isupper()]"
   ]
  },
  {
   "cell_type": "code",
   "execution_count": 39,
   "id": "becb28c5-506f-480c-a09a-c03f7d226423",
   "metadata": {},
   "outputs": [
    {
     "data": {
      "text/plain": [
       "[2, 6, 7, 9, 10]"
      ]
     },
     "execution_count": 39,
     "metadata": {},
     "output_type": "execute_result"
    }
   ],
   "source": [
    "indcap('wjWkdmSLoJN')"
   ]
  },
  {
   "cell_type": "markdown",
   "id": "edcdbceb-d5c2-4e85-8a7d-67367a6d29d0",
   "metadata": {},
   "source": [
    "Question5: Using list comprehensions, create a function that finds all even numbers from 1 to the given number.\n",
    "\n",
    "Examples\n",
    "\n",
    "    find_even_nums(8) ➞ [2, 4, 6, 8]\n",
    "    find_even_nums(4) ➞ [2, 4]\n",
    "    find_even_nums(2) ➞ [2]"
   ]
  },
  {
   "cell_type": "code",
   "execution_count": 44,
   "id": "ea1f61a4-5f7e-495a-bbc1-54031f3c753b",
   "metadata": {},
   "outputs": [],
   "source": [
    "def evennum(n):\n",
    "    return [i for i in range(1,n+1) if i % 2 == 0]"
   ]
  },
  {
   "cell_type": "code",
   "execution_count": 45,
   "id": "bea38f3f-9a5b-4e83-b96e-f5c3c4b14f08",
   "metadata": {},
   "outputs": [
    {
     "data": {
      "text/plain": [
       "[2, 4, 6, 8]"
      ]
     },
     "execution_count": 45,
     "metadata": {},
     "output_type": "execute_result"
    }
   ],
   "source": [
    "evennum(8)"
   ]
  }
 ],
 "metadata": {
  "kernelspec": {
   "display_name": "Python 3 (ipykernel)",
   "language": "python",
   "name": "python3"
  },
  "language_info": {
   "codemirror_mode": {
    "name": "ipython",
    "version": 3
   },
   "file_extension": ".py",
   "mimetype": "text/x-python",
   "name": "python",
   "nbconvert_exporter": "python",
   "pygments_lexer": "ipython3",
   "version": "3.10.6"
  }
 },
 "nbformat": 4,
 "nbformat_minor": 5
}
