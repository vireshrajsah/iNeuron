{
 "cells": [
  {
   "cell_type": "markdown",
   "id": "ee4649ee-b277-4578-9b30-dc60652be9b2",
   "metadata": {},
   "source": [
    "1. Make a class called Thing with no contents and print it. Then, create an object called example\n",
    "from this class and also print it. Are the printed values the same or different?\n",
    "2. Create a new class called Thing2 and add the value 'abc' to the letters class attribute. Letters\n",
    "should be printed.\n",
    "3. Make yet another class called, of course, Thing3. This time, assign the value 'xyz' to an instance\n",
    "(object) attribute called letters. Print letters. Do you need to make an object from the class to do\n",
    "this?\n",
    "4. Create an Element class with the instance attributes name, symbol, and number. Create a class\n",
    "object with the values 'Hydrogen,' 'H,' and 1.\n",
    "5. Make a dictionary with these keys and values: 'name': 'Hydrogen', 'symbol': 'H', 'number': 1. Then,\n",
    "create an object called hydrogen from class Element using this dictionary.\n",
    "6. For the Element class, define a method called dump() that prints the values of the object’s\n",
    "attributes (name, symbol, and number). Create the hydrogen object from this new definition and\n",
    "use dump() to print its attributes.\n",
    "7. Call print(hydrogen). In the definition of Element, change the name of method dump to __str__,\n",
    "create a new hydrogen object, and call print(hydrogen) again.\n",
    "8. Modify Element to make the attributes name, symbol, and number private. Define a getter\n",
    "property for each to return its value.\n",
    "9. Define three classes: Bear, Rabbit, and Octothorpe. For each, define only one method: eats(). This\n",
    "should return 'berries' (Bear), 'clover' (Rabbit), or 'campers' (Octothorpe). Create one object from\n",
    "each and print what it eats.\n",
    "10. Define these classes: Laser, Claw, and SmartPhone. Each has only one method: does(). This\n",
    "returns 'disintegrate' (Laser), 'crush' (Claw), or 'ring' (SmartPhone). Then, define the class Robot that\n",
    "has one instance (object) of each of these. Define a does() method for the Robot that prints what its\n",
    "component objects do."
   ]
  },
  {
   "cell_type": "code",
   "execution_count": 2,
   "id": "a9db2b70-e8c1-4da8-a3de-ed52e724e304",
   "metadata": {},
   "outputs": [],
   "source": [
    "# 1\n",
    "class Thing():\n",
    "    pass"
   ]
  },
  {
   "cell_type": "code",
   "execution_count": 3,
   "id": "ad7ac734-af15-4bae-ba5f-581861785566",
   "metadata": {},
   "outputs": [
    {
     "name": "stdout",
     "output_type": "stream",
     "text": [
      "<class '__main__.Thing'>\n"
     ]
    }
   ],
   "source": [
    "print(Thing)"
   ]
  },
  {
   "cell_type": "code",
   "execution_count": 4,
   "id": "cede4516-ade6-471d-bf36-8c6298444544",
   "metadata": {},
   "outputs": [],
   "source": [
    "example = Thing()"
   ]
  },
  {
   "cell_type": "code",
   "execution_count": 6,
   "id": "89f7d3cd-bdcc-4a64-91cf-0e0d9c867b5d",
   "metadata": {},
   "outputs": [
    {
     "name": "stdout",
     "output_type": "stream",
     "text": [
      "<__main__.Thing object at 0x7f2b9c18ce80>\n"
     ]
    }
   ],
   "source": [
    "print(example)"
   ]
  },
  {
   "cell_type": "code",
   "execution_count": 14,
   "id": "722e0276-beeb-4352-b1ee-811e1696feb6",
   "metadata": {},
   "outputs": [
    {
     "name": "stdout",
     "output_type": "stream",
     "text": [
      "abc\n"
     ]
    }
   ],
   "source": [
    "# 2\n",
    "class Thing2:\n",
    "    letters = ''\n",
    "\n",
    "Thing2.letters = 'abc'\n",
    "print(Thing2.letters)"
   ]
  },
  {
   "cell_type": "code",
   "execution_count": 16,
   "id": "4866d2ad-926b-44dc-a509-91d40d5aba29",
   "metadata": {},
   "outputs": [],
   "source": [
    "# 3\n",
    "class Thing3:\n",
    "    def __init__(s):\n",
    "        s.letters = ''"
   ]
  },
  {
   "cell_type": "code",
   "execution_count": 20,
   "id": "f2c391a4-c64a-4fff-bce4-22ea3db5da0c",
   "metadata": {},
   "outputs": [
    {
     "name": "stdout",
     "output_type": "stream",
     "text": [
      "xyz\n"
     ]
    }
   ],
   "source": [
    "obj=Thing3()\n",
    "obj.letters = 'xyz'\n",
    "print(obj.letters)"
   ]
  },
  {
   "cell_type": "code",
   "execution_count": 22,
   "id": "ecd826be-15ae-44aa-8750-b36632f28130",
   "metadata": {},
   "outputs": [],
   "source": [
    "# 4\n",
    "class Element:\n",
    "    def __init__(s, name, symbol, number):\n",
    "        s.name = name\n",
    "        s.symbol = symbol\n",
    "        s.number = number\n",
    "\n",
    "hydrogen= Element('Hydrogen', 'H', 1)"
   ]
  },
  {
   "cell_type": "code",
   "execution_count": 24,
   "id": "89c5a5ba-3093-4ded-9b7b-e067597a7caa",
   "metadata": {},
   "outputs": [
    {
     "data": {
      "text/plain": [
       "<__main__.Element at 0x7f2b8c657970>"
      ]
     },
     "execution_count": 24,
     "metadata": {},
     "output_type": "execute_result"
    }
   ],
   "source": [
    "hydrogen"
   ]
  },
  {
   "cell_type": "code",
   "execution_count": 30,
   "id": "b562b8ab-d724-40e5-add9-e81b39eed3fc",
   "metadata": {},
   "outputs": [],
   "source": [
    "# 5\n",
    "d={'name': 'Hydrogen', 'symbol': 'H', 'number': 1}\n",
    "\n",
    "hydrogn=Element(**d)"
   ]
  },
  {
   "cell_type": "code",
   "execution_count": 31,
   "id": "6e403f0d-a929-483c-b6e5-c4e58bb7958f",
   "metadata": {},
   "outputs": [
    {
     "data": {
      "text/plain": [
       "'Hydrogen'"
      ]
     },
     "execution_count": 31,
     "metadata": {},
     "output_type": "execute_result"
    }
   ],
   "source": [
    "hydrogn.name"
   ]
  },
  {
   "cell_type": "code",
   "execution_count": 33,
   "id": "b5e46f97-367e-400b-8811-a2bcbe662266",
   "metadata": {},
   "outputs": [],
   "source": [
    "# 6\n",
    "class Element:\n",
    "    def __init__(s, name, symbol, number):\n",
    "        s.name = name\n",
    "        s.symbol = symbol\n",
    "        s.number = number\n",
    "    def dump(s):\n",
    "        print('Name:\\t{}\\nSymbol:\\t{}\\nNumber:\\t{}'.format(s.name, s.symbol, s.number))"
   ]
  },
  {
   "cell_type": "code",
   "execution_count": 34,
   "id": "a5e765f6-5561-479b-9959-907acc131b57",
   "metadata": {},
   "outputs": [],
   "source": [
    "d={'name': 'Hydrogen', 'symbol': 'H', 'number': 1}\n",
    "hydrogen=Element(**d)"
   ]
  },
  {
   "cell_type": "code",
   "execution_count": 35,
   "id": "04cd5366-8ff9-4a4a-b640-b3cc35c34949",
   "metadata": {},
   "outputs": [
    {
     "name": "stdout",
     "output_type": "stream",
     "text": [
      "Name:\tHydrogen\n",
      "Symbol:\tH\n",
      "Number:\t1\n"
     ]
    }
   ],
   "source": [
    "hydrogen.dump()"
   ]
  },
  {
   "cell_type": "code",
   "execution_count": 36,
   "id": "cfc06edf-befe-4039-b77d-6993b47a4629",
   "metadata": {},
   "outputs": [
    {
     "name": "stdout",
     "output_type": "stream",
     "text": [
      "<__main__.Element object at 0x7f2b8c46b790>\n"
     ]
    }
   ],
   "source": [
    "# 7\n",
    "class Element:\n",
    "    print(hydrogen)\n",
    "    def __init__(s, name, symbol, number):\n",
    "        s.name = name\n",
    "        s.symbol = symbol\n",
    "        s.number = number\n",
    "    def str(s):\n",
    "        print('Name:\\t{}\\nSymbol:\\t{}\\nNumber:\\t{}'.format(s.name, s.symbol, s.number))"
   ]
  },
  {
   "cell_type": "code",
   "execution_count": 37,
   "id": "e7557e5c-ab50-46dd-859e-3e4ca0137825",
   "metadata": {},
   "outputs": [],
   "source": [
    "hydrogen=Element(**d)"
   ]
  },
  {
   "cell_type": "code",
   "execution_count": 38,
   "id": "2a7a4e14-6f2b-438e-a4c4-40d5321fe9d3",
   "metadata": {},
   "outputs": [
    {
     "name": "stdout",
     "output_type": "stream",
     "text": [
      "<__main__.Element object at 0x7f2b77c59450>\n"
     ]
    }
   ],
   "source": [
    "print(hydrogen)"
   ]
  },
  {
   "cell_type": "code",
   "execution_count": 42,
   "id": "28fb2df9-4f52-4680-92a9-a04842d1301e",
   "metadata": {},
   "outputs": [],
   "source": [
    "# 8. Modify Element to make the attributes name, symbol, and number private. Define a getter property for each to return its value.\n",
    "\n",
    "class Element:\n",
    "    def __init__(s, name, symbol, number):\n",
    "        s.__name = name\n",
    "        s.__symbol = symbol\n",
    "        s.__number = number\n",
    "    def dump(s):\n",
    "        print('Name:\\t{}\\nSymbol:\\t{}\\nNumber:\\t{}'.format(s.__name, s.__symbol, s.__number))\n",
    "    @property\n",
    "    def name(s):\n",
    "        return s.__name\n",
    "    @property\n",
    "    def symbol(s):\n",
    "        return s.__symbol\n",
    "    @property\n",
    "    def number(s):\n",
    "        return s.__number"
   ]
  },
  {
   "cell_type": "code",
   "execution_count": 43,
   "id": "d30fa752-d82a-4bc8-9bf1-7391ee3d5f8c",
   "metadata": {},
   "outputs": [],
   "source": [
    "hydrogen=Element(**d)"
   ]
  },
  {
   "cell_type": "code",
   "execution_count": 46,
   "id": "1ef63702-9cd2-40df-b33a-0a68f50e03e0",
   "metadata": {},
   "outputs": [
    {
     "data": {
      "text/plain": [
       "('Hydrogen', 'H', 1)"
      ]
     },
     "execution_count": 46,
     "metadata": {},
     "output_type": "execute_result"
    }
   ],
   "source": [
    "hydrogen.name, hydrogen.symbol, hydrogen.number"
   ]
  },
  {
   "cell_type": "code",
   "execution_count": 54,
   "id": "903afda5-6486-474a-b274-944b4ed1edeb",
   "metadata": {},
   "outputs": [],
   "source": [
    "# 9. Define three classes: Bear, Rabbit, and Octothorpe. For each, define only one method: eats(). \n",
    "#    This should return 'berries' (Bear), 'clover' (Rabbit), or 'campers' (Octothorpe). Create one \n",
    "#    object from each and print what it eats.\n",
    "\n",
    "class Bear:\n",
    "    food='berries'\n",
    "    def eats(s):\n",
    "        return Bear.food\n",
    "\n",
    "class Rabbit:\n",
    "    food='clover'\n",
    "    def eats(s):\n",
    "        return Rabbit.food\n",
    "\n",
    "class Octothrope:\n",
    "    food='campers'\n",
    "    def eats(s):\n",
    "        return Octothrope.food"
   ]
  },
  {
   "cell_type": "code",
   "execution_count": 55,
   "id": "372390f3-853f-4857-91ae-b4f7e6431fe9",
   "metadata": {},
   "outputs": [
    {
     "data": {
      "text/plain": [
       "('berries', 'clover', 'campers')"
      ]
     },
     "execution_count": 55,
     "metadata": {},
     "output_type": "execute_result"
    }
   ],
   "source": [
    "baloo = Bear()\n",
    "bugs_bunny = Rabbit()\n",
    "oswal = Octothrope()\n",
    "\n",
    "baloo.eats(), bugs_bunny.eats(), oswal.eats()"
   ]
  },
  {
   "cell_type": "code",
   "execution_count": 66,
   "id": "8eeef4fe-6368-4e4c-a45c-bdabf8546296",
   "metadata": {},
   "outputs": [],
   "source": [
    "# 10. Define these classes: Laser, Claw, and SmartPhone. Each has only one method: does(). This returns \n",
    "#     'disintegrate' (Laser), 'crush' (Claw), or 'ring' (SmartPhone). Then, define the class Robot that \n",
    "#     has one instance (object) of each of these. Define a does() method for the Robot that prints what \n",
    "#     its component objects do.\n",
    "\n",
    "class Laser:\n",
    "    def does(self):\n",
    "        return 'disintegrate'\n",
    "\n",
    "class Claw:\n",
    "    def does(self):\n",
    "        return 'crush'\n",
    "\n",
    "class SmartPhone:\n",
    "    def does(self):\n",
    "        return 'ring'\n",
    "    \n",
    "class Robot:\n",
    "    def __init__(self):\n",
    "        self.laser = Laser()\n",
    "        self.claw = Claw()\n",
    "        self.smartphone = SmartPhone()\n",
    "    \n",
    "    def does(self):\n",
    "        print(f\"Laser: {self.laser.does()}\")\n",
    "        print(f\"Claw: {self.claw.does()}\")\n",
    "        print(f\"SmartPhone: {self.smartphone.does()}\")"
   ]
  },
  {
   "cell_type": "code",
   "execution_count": 67,
   "id": "2b4a56a7-6da7-485e-9f5d-cc2da1ffa6f5",
   "metadata": {},
   "outputs": [
    {
     "name": "stdout",
     "output_type": "stream",
     "text": [
      "Laser: disintegrate\n",
      "Claw: crush\n",
      "SmartPhone: ring\n"
     ]
    }
   ],
   "source": [
    "robot = Robot()\n",
    "robot.does()\n"
   ]
  }
 ],
 "metadata": {
  "kernelspec": {
   "display_name": "Python 3 (ipykernel)",
   "language": "python",
   "name": "python3"
  },
  "language_info": {
   "codemirror_mode": {
    "name": "ipython",
    "version": 3
   },
   "file_extension": ".py",
   "mimetype": "text/x-python",
   "name": "python",
   "nbconvert_exporter": "python",
   "pygments_lexer": "ipython3",
   "version": "3.10.6"
  }
 },
 "nbformat": 4,
 "nbformat_minor": 5
}
