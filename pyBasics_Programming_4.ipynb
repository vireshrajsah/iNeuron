{
 "cells": [
  {
   "cell_type": "markdown",
   "id": "998de9a8-12e5-4d7f-a04f-cb6e7e761b85",
   "metadata": {},
   "source": [
    "1. Write a Python Program to Find the Factorial of a Number?\n",
    "2. Write a Python Program to Display the multiplication Table?\n",
    "3. Write a Python Program to Print the Fibonacci sequence?\n",
    "4. Write a Python Program to Check Armstrong Number?\n",
    "5. Write a Python Program to Find Armstrong Number in an Interval?\n",
    "6. Write a Python Program to Find the Sum of Natural Numbers?"
   ]
  },
  {
   "cell_type": "code",
   "execution_count": 7,
   "id": "b4fedb5d-85b9-4b35-80d4-2806e333c2df",
   "metadata": {},
   "outputs": [
    {
     "name": "stdin",
     "output_type": "stream",
     "text": [
      "Enter number:  10\n"
     ]
    },
    {
     "data": {
      "text/plain": [
       "362880"
      ]
     },
     "execution_count": 7,
     "metadata": {},
     "output_type": "execute_result"
    }
   ],
   "source": [
    "# 1\n",
    "def fact(num):\n",
    "    return reduce(lambda x,y:x*y, range(1,num))\n",
    "\n",
    "num = int(input('Enter number: '))\n",
    "fact(num)"
   ]
  },
  {
   "cell_type": "code",
   "execution_count": 20,
   "id": "ccbbf957-eaca-4861-a846-3dacd3c6d162",
   "metadata": {},
   "outputs": [
    {
     "name": "stdout",
     "output_type": "stream",
     "text": [
      "10 x 1 = 10\n",
      "10 x 2 = 20\n",
      "10 x 3 = 30\n",
      "10 x 4 = 40\n",
      "10 x 5 = 50\n",
      "10 x 6 = 60\n",
      "10 x 7 = 70\n",
      "10 x 8 = 80\n",
      "10 x 9 = 90\n"
     ]
    }
   ],
   "source": [
    "# 2\n",
    "def table(n):\n",
    "    l= [f'{n} x {i} = {n*i}' for i in range(1,10)]\n",
    "    for i in l:\n",
    "        yield i\n",
    "\n",
    "for i in table(10):\n",
    "    print (i)"
   ]
  },
  {
   "cell_type": "code",
   "execution_count": 31,
   "id": "a6563728-f0c8-4162-b1a5-fb4cb2eeddf6",
   "metadata": {},
   "outputs": [
    {
     "name": "stdin",
     "output_type": "stream",
     "text": [
      "Enter number of elements:  7\n"
     ]
    },
    {
     "data": {
      "text/plain": [
       "[1, 1, 2, 3, 5, 8, 13, 21]"
      ]
     },
     "execution_count": 31,
     "metadata": {},
     "output_type": "execute_result"
    }
   ],
   "source": [
    "# 3\n",
    "def fibb(num):\n",
    "    prev=0\n",
    "    nxt=1  \n",
    "    for i in range(num):\n",
    "        if i==0:\n",
    "            yield nxt\n",
    "        curr=prev+nxt\n",
    "        prev=nxt\n",
    "        nxt=curr\n",
    "        yield nxt\n",
    "        \n",
    "\n",
    "num = int(input('Enter number of elements: '))\n",
    "list(fibb(num))"
   ]
  },
  {
   "cell_type": "code",
   "execution_count": 52,
   "id": "2486170a-dbf2-4793-ae32-c108e8f8e525",
   "metadata": {},
   "outputs": [
    {
     "data": {
      "text/plain": [
       "True"
      ]
     },
     "execution_count": 52,
     "metadata": {},
     "output_type": "execute_result"
    }
   ],
   "source": [
    "# 4\n",
    "def checkarmstrong(num):\n",
    "    l=len(str(num))\n",
    "    digits=[i for i in str(num)]\n",
    "    sum=0\n",
    "    for i in digits:\n",
    "        sum+=int(i)**l\n",
    "    return sum==num\n",
    "\n",
    "checkarmstrong(153)"
   ]
  },
  {
   "cell_type": "code",
   "execution_count": 58,
   "id": "c114bb67-ead5-45fe-ba2c-de34e5f3f008",
   "metadata": {},
   "outputs": [
    {
     "name": "stdout",
     "output_type": "stream",
     "text": [
      "153\n",
      "370\n",
      "371\n",
      "407\n"
     ]
    }
   ],
   "source": [
    "# 5\n",
    "def findarmstrong(start, stop):\n",
    "    for i in range(start, stop):\n",
    "        if checkarmstrong(i):\n",
    "            yield i\n",
    "\n",
    "\n",
    "for i in findarmstrong(10, 500):\n",
    "    print(i)"
   ]
  },
  {
   "cell_type": "code",
   "execution_count": 35,
   "id": "c939ec2a-ed23-41f6-afe2-654fe19c74a3",
   "metadata": {},
   "outputs": [
    {
     "name": "stdin",
     "output_type": "stream",
     "text": [
      "Enter number:  20\n"
     ]
    },
    {
     "name": "stdout",
     "output_type": "stream",
     "text": [
      "Sum:  190\n"
     ]
    }
   ],
   "source": [
    "# 6\n",
    "from functools import reduce\n",
    "\n",
    "num = int(input('Enter number: '))\n",
    "print ('Sum: ', reduce(lambda x,y: x+y, range(num)))"
   ]
  }
 ],
 "metadata": {
  "kernelspec": {
   "display_name": "Python 3 (ipykernel)",
   "language": "python",
   "name": "python3"
  },
  "language_info": {
   "codemirror_mode": {
    "name": "ipython",
    "version": 3
   },
   "file_extension": ".py",
   "mimetype": "text/x-python",
   "name": "python",
   "nbconvert_exporter": "python",
   "pygments_lexer": "ipython3",
   "version": "3.10.6"
  }
 },
 "nbformat": 4,
 "nbformat_minor": 5
}
