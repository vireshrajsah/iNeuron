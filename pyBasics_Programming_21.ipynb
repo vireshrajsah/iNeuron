{
 "cells": [
  {
   "cell_type": "markdown",
   "id": "304c9317-c890-433c-81c8-b2a770c8cb83",
   "metadata": {},
   "source": [
    "Question1: Write a function that takes a list and a number as arguments. Add the number to the end of the list, then remove the first element of the list. The function should then return the updated list.\n",
    "\n",
    "Examples\n",
    "\n",
    "    next_in_line([5, 6, 7, 8, 9], 1) ➞ [6, 7, 8, 9, 1]\n",
    "    next_in_line([7, 6, 3, 23, 17], 10) ➞ [6, 3, 23, 17, 10]\n",
    "    next_in_line([1, 10, 20, 42 ], 6) ➞ [10, 20, 42, 6]\n",
    "    next_in_line([], 6) ➞ \"No list has been selected\""
   ]
  },
  {
   "cell_type": "code",
   "execution_count": 1,
   "id": "a961117d-e427-4ed9-ab78-6fef2e5a8676",
   "metadata": {},
   "outputs": [
    {
     "data": {
      "text/plain": [
       "[6, 7, 8, 9, 1]"
      ]
     },
     "execution_count": 1,
     "metadata": {},
     "output_type": "execute_result"
    }
   ],
   "source": [
    "def nxtlst(l:list, n:int):\n",
    "    return l[1:]+[n]\n",
    "nxtlst([5, 6, 7, 8, 9], 1)"
   ]
  },
  {
   "cell_type": "markdown",
   "id": "d2ff1b7b-c2f5-4714-8b12-7d1cb51db89e",
   "metadata": {},
   "source": [
    "Question2: Create the function that takes a list of dictionaries and returns the sum of people&#39;s budgets.\n",
    "\n",
    "Examples\n",
    "\n",
    "    get_budgets([\n",
    "    { \"name\": \"John\", \"age\": 21, \"budget\": 23000 },\n",
    "    { \"name\": \"Steve\", \"age\": 32, \"budget\": 40000 },\n",
    "    { \"name\": \"Martin\", \"age\": 16, \"budget\": 2700 }\n",
    "    ]) ➞ 65700\n",
    "    get_budgets([\n",
    "    { \"name\": \"John\", \"age\": 21, \"budget\": 29000 },\n",
    "    { \"name\": \"Steve\", \"age\": 32, \"budget\": 32000 },\n",
    "    { \"name\": \"Martin\", \"age\": 16, \"budget\": 1600 }\n",
    "    ]) ➞ 62600\n"
   ]
  },
  {
   "cell_type": "code",
   "execution_count": 4,
   "id": "6c54d084-32c0-48a0-9ea1-7f290923bf07",
   "metadata": {},
   "outputs": [
    {
     "data": {
      "text/plain": [
       "62600"
      ]
     },
     "execution_count": 4,
     "metadata": {},
     "output_type": "execute_result"
    }
   ],
   "source": [
    "def get_budgets(l:list):\n",
    "    return sum([d['budget'] for d in l])\n",
    "\n",
    "get_budgets([\n",
    "{ \"name\": \"John\", \"age\": 21, \"budget\": 29000 },\n",
    "{ \"name\": \"Steve\", \"age\": 32, \"budget\": 32000 },\n",
    "{ \"name\": \"Martin\", \"age\": 16, \"budget\": 1600 }\n",
    "])"
   ]
  },
  {
   "cell_type": "markdown",
   "id": "afedb845-1bc7-43e3-94ec-ef44212ad904",
   "metadata": {},
   "source": [
    "Question3: Create a function that takes a string and returns a string with its letters in alphabetical order.\n",
    "\n",
    "Examples\n",
    "\n",
    "    alphabet_soup(\"hello\") ➞ \"ehllo\"\n",
    "    alphabet_soup(\"edabit\") ➞ \"abdeit\"\n",
    "    alphabet_soup(\"hacker\") ➞ \"acehkr\"\n",
    "    alphabet_soup(\"geek\") ➞ \"eegk\"\n",
    "    alphabet_soup(\"javascript\") ➞ \"aacijprstv\""
   ]
  },
  {
   "cell_type": "code",
   "execution_count": 7,
   "id": "b85240ac-2388-409b-a120-bd47dfe71dc6",
   "metadata": {},
   "outputs": [
    {
     "data": {
      "text/plain": [
       "'acehkr'"
      ]
     },
     "execution_count": 7,
     "metadata": {},
     "output_type": "execute_result"
    }
   ],
   "source": [
    "def alphsoup(s:str):\n",
    "    return ''.join(sorted(s))\n",
    "alphsoup('hacker')"
   ]
  },
  {
   "cell_type": "markdown",
   "id": "557d5c96-b3a1-4ac8-8b22-d896957f21bd",
   "metadata": {},
   "source": [
    "Question4: Suppose that you invest $10,000 for 10 years at an interest rate of 6% compounded monthly. What will be the value of your investment at the end of the 10 year period?\n",
    "\n",
    "Create a function that accepts the principal p, the term in years t, the interest rate r, and the number of compounding periods per year n. The function returns the value at the end of term rounded to the nearest cent.\n",
    "\n",
    "For the example above:\n",
    "\n",
    "    compound_interest(10000, 10, 0.06, 12) ➞ 18193.97\n",
    "    Note that the interest rate is given as a decimal and n=12 because with monthly compounding\n",
    "    there are 12 periods per year. Compounding can also be done annually, quarterly, weekly, or\n",
    "    daily.\n",
    "Examples\n",
    "\n",
    "    compound_interest(100, 1, 0.05, 1) ➞ 105.0\n",
    "    compound_interest(3500, 15, 0.1, 4) ➞ 15399.26\n",
    "    compound_interest(100000, 20, 0.15, 365) ➞ 2007316.26"
   ]
  },
  {
   "cell_type": "code",
   "execution_count": 8,
   "id": "2cf56104-171e-4568-ad2d-2b66af2e2625",
   "metadata": {},
   "outputs": [
    {
     "data": {
      "text/plain": [
       "15399.26"
      ]
     },
     "execution_count": 8,
     "metadata": {},
     "output_type": "execute_result"
    }
   ],
   "source": [
    "def compound_interest(p, t, r, n):\n",
    "    A = p * (1 + (r/n))**(n*t)\n",
    "    return round(A, 2)\n",
    "\n",
    "compound_interest(3500, 15, 0.1, 4)"
   ]
  },
  {
   "cell_type": "markdown",
   "id": "0d99901c-54d1-442d-bcc1-96c839f4af60",
   "metadata": {},
   "source": [
    "Question5: Write a function that takes a list of elements and returns only the integers.\n",
    "\n",
    "Examples\n",
    "\n",
    "    return_only_integer([9, 2, \"space\", \"car\", \"lion\", 16]) ➞ [9, 2, 16]\n",
    "    return_only_integer([\"hello\", 81, \"basketball\", 123, \"fox\"]) ➞ [81, 123]\n",
    "    return_only_integer([10, \"121\", 56, 20, \"car\", 3, \"lion\"]) ➞ [10, 56, 20,3]\n",
    "    return_only_integer([\"String\", True, 3.3, 1]) ➞ [1]"
   ]
  },
  {
   "cell_type": "code",
   "execution_count": null,
   "id": "3e7c9561-0699-4603-b9ee-371a349b0ab8",
   "metadata": {},
   "outputs": [],
   "source": []
  }
 ],
 "metadata": {
  "kernelspec": {
   "display_name": "Python 3 (ipykernel)",
   "language": "python",
   "name": "python3"
  },
  "language_info": {
   "codemirror_mode": {
    "name": "ipython",
    "version": 3
   },
   "file_extension": ".py",
   "mimetype": "text/x-python",
   "name": "python",
   "nbconvert_exporter": "python",
   "pygments_lexer": "ipython3",
   "version": "3.10.6"
  }
 },
 "nbformat": 4,
 "nbformat_minor": 5
}
