{
 "cells": [
  {
   "cell_type": "markdown",
   "id": "830423ca-18dd-4be4-8618-ce6f6ae59c1d",
   "metadata": {},
   "source": [
    "Question1. Write a function that stutters a word as if someone is struggling to read it. The first two letters are repeated twice with an ellipsis ... and space after each, and then the word is pronounced with a question mark ?\n",
    "\n",
    "Examples:\n",
    "\n",
    "stutter(\"incredible\") ➞ \"in... in... incredible?\"<br>\n",
    "stutter(\"enthusiastic\") ➞ \"en... en... enthusiastic?\"<br>\n",
    "stutter(\"outstanding\") ➞ \"ou... ou... outstanding?\"<br>\n",
    "\n",
    "Hint :- Assume all input is in lower case and at least two characters long."
   ]
  },
  {
   "cell_type": "code",
   "execution_count": 1,
   "id": "7c554ae8-2de8-4d01-9222-3194b00f2d96",
   "metadata": {},
   "outputs": [
    {
     "name": "stdin",
     "output_type": "stream",
     "text": [
      "Enter words sparated by comma:  incredible,enthusiastic,outstanding\n"
     ]
    },
    {
     "name": "stdout",
     "output_type": "stream",
     "text": [
      "in... in... incredible?\n",
      "en... en... enthusiastic?\n",
      "ou... ou... outstanding?\n"
     ]
    }
   ],
   "source": [
    "def stutterprint(s):\n",
    "    print(f'{s[:2]}... {s[:2]}... {s}?')\n",
    "\n",
    "n= input('Enter words sparated by comma: ').split(',')\n",
    "for i in n:\n",
    "    stutterprint(i)"
   ]
  },
  {
   "cell_type": "markdown",
   "id": "7731baec-566f-4ec3-8629-6f07d7edeffb",
   "metadata": {},
   "source": [
    "Question 2.Create a function that takes an angle in radians and returns the corresponding angle in degrees rounded to one decimal place.\n",
    "\n",
    "Examples\n",
    "\n",
    "radians_to_degrees(1) ➞ 57.3<br>\n",
    "radians_to_degrees(20) ➞ 1145.9<br>\n",
    "radians_to_degrees(50) ➞ 2864.8"
   ]
  },
  {
   "cell_type": "code",
   "execution_count": 3,
   "id": "9a4711d1-0c39-4b5a-bd60-cbc948a6371b",
   "metadata": {},
   "outputs": [
    {
     "name": "stdout",
     "output_type": "stream",
     "text": [
      "1145.5\n"
     ]
    }
   ],
   "source": [
    "def radians_to_degree(rad):\n",
    "    return round( rad * (180/(22/7)), 1)\n",
    "n = 20\n",
    "print(radians_to_degree(n))"
   ]
  },
  {
   "cell_type": "markdown",
   "id": "f651e8dd-cc5e-414a-81eb-d62197fbd77d",
   "metadata": {},
   "source": [
    "Question 3. In this challenge, establish if a given integer num is a Curzon number. If 1 plus 2 elevated to num is exactly divisible by 1 plus 2 multiplied by num, then num is a Curzon number.\n",
    "\n",
    "Given a non-negative integer num, implement a function that returns True if num is a Curzon\n",
    "number, or False otherwise.\n",
    "\n",
    "Examples\n",
    "\n",
    "    is_curzon(5) ➞ True\n",
    "    # 2 ** 5 + 1 = 33\n",
    "    # 2 * 5 + 1 = 11\n",
    "    # 33 is a multiple of 11\n",
    "    is_curzon(10) ➞ False\n",
    "    # 2 ** 10 + 1 = 1025\n",
    "    # 2 * 10 + 1 = 21\n",
    "    # 1025 is not a multiple of 21\n",
    "    is_curzon(14) ➞ True\n",
    "    # 2 ** 14 + 1 = 16385\n",
    "    # 2 * 14 + 1 = 29\n",
    "    # 16385 is a multiple of 29"
   ]
  },
  {
   "cell_type": "code",
   "execution_count": 6,
   "id": "59ba166d-db5f-4665-8b53-1ece6b1a5593",
   "metadata": {},
   "outputs": [
    {
     "data": {
      "text/plain": [
       "True"
      ]
     },
     "execution_count": 6,
     "metadata": {},
     "output_type": "execute_result"
    }
   ],
   "source": [
    "def iscurzon(n:int):\n",
    "    return ((1+2**n)%(2*n+1))==0\n",
    "\n",
    "iscurzon(5)"
   ]
  },
  {
   "cell_type": "markdown",
   "id": "f07dd8d1-7a1f-4ffb-9dd7-a6ed92786a5b",
   "metadata": {},
   "source": [
    "Question 4.Given the side length x find the area of a hexagon.\n",
    "\n",
    "![area of a hexagon](hexagon.png)\n",
    "\n",
    "Examples\n",
    "\n",
    "    area_of_hexagon(1) ➞ 2.6\n",
    "    area_of_hexagon(2) ➞ 10.4\n",
    "    area_of_hexagon(3) ➞ 23.4"
   ]
  },
  {
   "cell_type": "code",
   "execution_count": 8,
   "id": "fba68320-6bfa-4c16-a418-11bde8494991",
   "metadata": {},
   "outputs": [
    {
     "data": {
      "text/plain": [
       "23.4"
      ]
     },
     "execution_count": 8,
     "metadata": {},
     "output_type": "execute_result"
    }
   ],
   "source": [
    "def ar_hexagon(s):\n",
    "    return round((3 * (3**(1/2)) * (s**2))/2,1)\n",
    "\n",
    "ar_hexagon(3)"
   ]
  },
  {
   "cell_type": "markdown",
   "id": "251f76bf-1e6e-4473-8def-797fa359a770",
   "metadata": {},
   "source": [
    "Question 5. Create a function that returns a base-2 (binary) representation of a base-10 (decimal) string number. \n",
    "\n",
    "To convert is simple: ((2) means base-2 and (10) means base-10) 010101001(2) = 1 + 8 + 32 + 128. Going from right to left, the value of the most right bit is 1, now from that every bit to the left will be x2 the value, value of an 8 bit binary numbers are (256, 128, 64, 32, 16, 8, 4, 2, 1).\n",
    "\n",
    "Examples\n",
    "\n",
    "    binary(1) ➞ \"1\"\n",
    "    # 1*1 = 1\n",
    "    binary(5) ➞ \"101\"\n",
    "    # 1*1 + 1*4 = 5\n",
    "    binary(10) ➞ \"1010\"\n",
    "    # 1*2 + 1*8 = 10"
   ]
  },
  {
   "cell_type": "code",
   "execution_count": null,
   "id": "0f3cbf80-075f-4d05-a547-f895cc54b5c5",
   "metadata": {},
   "outputs": [],
   "source": [
    "def decimal_to_binary(decimal):\n",
    "    binary = \"\"\n",
    "    while decimal > 0:\n",
    "        binary = str(decimal % 2) + binary\n",
    "        decimal //= 2\n",
    "    return binary\n",
    "decimal_to_binary(345)"
   ]
  }
 ],
 "metadata": {
  "kernelspec": {
   "display_name": "Python 3 (ipykernel)",
   "language": "python",
   "name": "python3"
  },
  "language_info": {
   "codemirror_mode": {
    "name": "ipython",
    "version": 3
   },
   "file_extension": ".py",
   "mimetype": "text/x-python",
   "name": "python",
   "nbconvert_exporter": "python",
   "pygments_lexer": "ipython3",
   "version": "3.10.6"
  }
 },
 "nbformat": 4,
 "nbformat_minor": 5
}
