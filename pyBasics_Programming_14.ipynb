{
 "cells": [
  {
   "cell_type": "markdown",
   "id": "3e9098a5-ce6d-4924-ae3e-d6eaf2bfda1d",
   "metadata": {},
   "source": [
    "Question 1:\n",
    "Define a class with a generator which can iterate the numbers, which are divisible by\n",
    "7, between a given range 0 and n."
   ]
  },
  {
   "cell_type": "code",
   "execution_count": 1,
   "id": "6af74a29-fbec-435c-90ca-749cc5416f95",
   "metadata": {},
   "outputs": [],
   "source": [
    "class gen:\n",
    "    def multiplesof7(n):\n",
    "        for i in range(n):\n",
    "            if i % 7 == 0:\n",
    "                yield i"
   ]
  },
  {
   "cell_type": "code",
   "execution_count": 11,
   "id": "582b7c7e-10c2-4a15-b412-7377bf19d95f",
   "metadata": {},
   "outputs": [
    {
     "name": "stdout",
     "output_type": "stream",
     "text": [
      "[0, 7, 14, 21, 28, 35, 42, 49, 56, 63, 70, 77, 84, 91, 98]\n"
     ]
    }
   ],
   "source": [
    "print(list(gen.multiplesof7(100)))"
   ]
  },
  {
   "cell_type": "markdown",
   "id": "6a195c85-854d-425a-ae0a-8341c6f3579d",
   "metadata": {},
   "source": [
    "Question 2:<br>\n",
    "Write a program to compute the frequency of the words from the input. The output should output after sorting the key alphanumerically. Suppose the following input is supplied to the program:\n",
    "\n",
    "New to Python or choosing between Python 2 and Python 3? Read Python 2 or Python 3. Then, the output should be:<br>\n",
    "2:2<br>\n",
    "3.:1<br>\n",
    "3?:1<br>\n",
    "New:1<br>\n",
    "Python:5<br>\n",
    "Read:1<br>\n",
    "and:1<br>\n",
    "between:1<br>\n",
    "choosing:1<br>\n",
    "or:2<br>\n",
    "to:1<br>"
   ]
  },
  {
   "cell_type": "code",
   "execution_count": 11,
   "id": "93aeb089-eb5b-41c8-ba52-635cf4b9ff8a",
   "metadata": {},
   "outputs": [
    {
     "name": "stdin",
     "output_type": "stream",
     "text": [
      "Enter string:  New to Python or choosing between Python 2 and Python 3? Read Python 2 or Python 3\n"
     ]
    },
    {
     "name": "stdout",
     "output_type": "stream",
     "text": [
      "2 : 2\n",
      "3 : 1\n",
      "3? : 1\n",
      "New : 1\n",
      "Python : 5\n",
      "Read : 1\n",
      "and : 1\n",
      "between : 1\n",
      "choosing : 1\n",
      "or : 2\n",
      "to : 1\n"
     ]
    }
   ],
   "source": [
    "from collections import defaultdict\n",
    "\n",
    "text = input(\"Enter string: \")\n",
    "words = text.split()\n",
    "\n",
    "word_freq = defaultdict(int)\n",
    "for word in words:\n",
    "    word_freq[word] += 1\n",
    "\n",
    "sorted_words = sorted(word_freq.keys())\n",
    "\n",
    "for word in sorted_words:\n",
    "    print(word, ':', word_freq[word])\n"
   ]
  },
  {
   "cell_type": "markdown",
   "id": "a6c6306e-2381-42fd-88ff-dcd9ea072ce1",
   "metadata": {},
   "source": [
    "Question 3:\n",
    "\n",
    "Define a class Person and its two child classes: Male and Female. All classes have a method \"getGender\" which can print \"Male\" for Male class and \"Female\" for Female class."
   ]
  },
  {
   "cell_type": "code",
   "execution_count": 4,
   "id": "a9011ed8-cbd0-499b-a722-7289795a6522",
   "metadata": {},
   "outputs": [],
   "source": [
    "class Person:\n",
    "    def getGender(s):\n",
    "        pass\n",
    "class Male(Person):\n",
    "    def getGender(s):\n",
    "        return 'Male'\n",
    "class Female(Person):\n",
    "    def getGender(s):\n",
    "        return 'Female'"
   ]
  },
  {
   "cell_type": "code",
   "execution_count": 6,
   "id": "73294594-67f4-4c94-9633-2d9010b0aa7b",
   "metadata": {},
   "outputs": [
    {
     "name": "stdout",
     "output_type": "stream",
     "text": [
      "None\n",
      "Male\n",
      "Female\n"
     ]
    }
   ],
   "source": [
    "p=Person()\n",
    "print(p.getGender())\n",
    "m=Male()\n",
    "print(m.getGender())\n",
    "f=Female()\n",
    "print(f.getGender())"
   ]
  },
  {
   "cell_type": "markdown",
   "id": "31095f58-d3f8-4f5d-bac6-201adb148988",
   "metadata": {},
   "source": [
    "Question 4:\n",
    "\n",
    "Please write a program to generate all sentences where subject is in [\"I\", \"You\"] and verb is in [\"Play\", \"Love\"] and the object is in [\"Hockey\",\"Football\"]."
   ]
  },
  {
   "cell_type": "code",
   "execution_count": 7,
   "id": "4cde485f-bbce-4799-85d6-dfd779405232",
   "metadata": {},
   "outputs": [
    {
     "name": "stdout",
     "output_type": "stream",
     "text": [
      "I Play Hockey.\n",
      "I Play Football.\n",
      "I Love Hockey.\n",
      "I Love Football.\n",
      "You Play Hockey.\n",
      "You Play Football.\n",
      "You Love Hockey.\n",
      "You Love Football.\n"
     ]
    }
   ],
   "source": [
    "subjects = [\"I\", \"You\"]\n",
    "verbs = [\"Play\", \"Love\"]\n",
    "objects = [\"Hockey\", \"Football\"]\n",
    "\n",
    "for subject in subjects:\n",
    "    for verb in verbs:\n",
    "        for obj in objects:\n",
    "            sentence = f\"{subject} {verb} {obj}.\"\n",
    "            print(sentence)"
   ]
  },
  {
   "cell_type": "markdown",
   "id": "0059f4ff-8f7d-4e0c-8bfc-163a31d8aa8a",
   "metadata": {},
   "source": [
    "Question 5:\n",
    "\n",
    "Please write a program to compress and decompress the string \"hello world!hello world!hello world!hello world!\"."
   ]
  },
  {
   "cell_type": "code",
   "execution_count": 2,
   "id": "6dc3b725-399b-4597-a8d0-c4a459ea5804",
   "metadata": {},
   "outputs": [
    {
     "name": "stdout",
     "output_type": "stream",
     "text": [
      "Compressed data:  b\"\\x1f\\x8b\\x08\\x00\\x8a\\xde'd\\x02\\xff\\xcbH\\xcd\\xc9\\xc9W(\\xcf/\\xcaIQ\\xcc \\x82\\r\\x00\\xd3\\xe6\\xcf\\xae0\\x00\\x00\\x00\"\n",
      "Decompressed data:  hello world!hello world!hello world!hello world!\n"
     ]
    }
   ],
   "source": [
    "import gzip\n",
    "\n",
    "input_string = \"hello world!hello world!hello world!hello world!\"\n",
    "compressed_data = gzip.compress(input_string.encode())\n",
    "print(\"Compressed data: \", compressed_data)\n",
    "\n",
    "decompressed_data = gzip.decompress(compressed_data)\n",
    "\n",
    "print(\"Decompressed data: \", decompressed_data.decode())"
   ]
  },
  {
   "cell_type": "markdown",
   "id": "e8d1cf5d-eb05-4e2b-87d6-c2c48c7a07f6",
   "metadata": {},
   "source": [
    "Question 6:\n",
    "\n",
    "Please write a binary search function which searches an item in a sorted list. The function should return the index of element to be searched in the list."
   ]
  },
  {
   "cell_type": "code",
   "execution_count": 3,
   "id": "ec56d365-9498-499f-ac36-b7bf1aa04ada",
   "metadata": {},
   "outputs": [
    {
     "name": "stdout",
     "output_type": "stream",
     "text": [
      "None\n",
      "3\n"
     ]
    }
   ],
   "source": [
    "def search(e:str, l:list) -> int:\n",
    "    if e in l:\n",
    "        return l.index(e)\n",
    "    else: return None\n",
    "\n",
    "l= 'Kolkata,Bengaluru,Delhi,Patna,Hyderabad'.split(',')\n",
    "print(search('Chennai', l))\n",
    "print(search('Patna', l))"
   ]
  },
  {
   "cell_type": "code",
   "execution_count": 11,
   "id": "6a1b86ff-64dc-4e6f-82ff-32ee2eecfbd4",
   "metadata": {},
   "outputs": [],
   "source": [
    "def binary_search(e:int,a:list) -> int:\n",
    "    low = 0\n",
    "    high = len(a)-1\n",
    "    while low <= high:\n",
    "        middle = (high+low) // 2\n",
    "        if a[middle] == e:\n",
    "            return middle\n",
    "        elif e < a[middle]:\n",
    "            high = middle - 1\n",
    "        elif e > a[middle]:\n",
    "            low = middle + 1\n",
    "    return -1"
   ]
  },
  {
   "cell_type": "code",
   "execution_count": 15,
   "id": "ddfac880-ccb9-4175-b5d6-fdf3ad2be1e7",
   "metadata": {},
   "outputs": [
    {
     "data": {
      "text/plain": [
       "3"
      ]
     },
     "execution_count": 15,
     "metadata": {},
     "output_type": "execute_result"
    }
   ],
   "source": [
    "sorted_list=[1,3,7,8,9,10,13,27,41]\n",
    "binary_search(8, sorted_list)"
   ]
  }
 ],
 "metadata": {
  "kernelspec": {
   "display_name": "Python 3 (ipykernel)",
   "language": "python",
   "name": "python3"
  },
  "language_info": {
   "codemirror_mode": {
    "name": "ipython",
    "version": 3
   },
   "file_extension": ".py",
   "mimetype": "text/x-python",
   "name": "python",
   "nbconvert_exporter": "python",
   "pygments_lexer": "ipython3",
   "version": "3.10.6"
  }
 },
 "nbformat": 4,
 "nbformat_minor": 5
}
