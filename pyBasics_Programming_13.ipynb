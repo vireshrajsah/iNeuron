{
 "cells": [
  {
   "cell_type": "markdown",
   "id": "b0e45745-5ccd-4628-8540-b5632c90c23d",
   "metadata": {},
   "source": [
    "Question 1:\n",
    "\n",
    "Write a program that calculates and prints the value according to the given formula:<br>\n",
    "Q = Square root of [(2 * C * D)/H]<br>\n",
    "Following are the fixed values of C and H:<br>\n",
    "C is 50. H is 30.<br>\n",
    "D is the variable whose values should be input to your program in a comma-separated\n",
    "sequence.\n",
    "\n",
    "Example:<br>\n",
    "Let us assume the following comma separated input sequence is given to the program:<br>\n",
    "100,150,180<br>\n",
    "The output of the program should be:<br>\n",
    "18,22,24\n"
   ]
  },
  {
   "cell_type": "code",
   "execution_count": 12,
   "id": "8a08b19c-b60b-46cf-9626-d7e5451c109d",
   "metadata": {},
   "outputs": [
    {
     "name": "stdin",
     "output_type": "stream",
     "text": [
      "Enter values of d:  100, 150, 180\n"
     ]
    },
    {
     "name": "stdout",
     "output_type": "stream",
     "text": [
      "18,22,24"
     ]
    }
   ],
   "source": [
    "import re\n",
    "c=50; h= 30\n",
    "d= re.split(r'\\s*\\,\\s*', input('Enter values of d: '))\n",
    "\n",
    "for i in d:\n",
    "    q= ((2 * c * int(i))/h)**(1/2)\n",
    "    print(int(round(q, 0)),end=',' if i != d[-1] else '')"
   ]
  },
  {
   "cell_type": "markdown",
   "id": "2d07cf23-18fb-4be0-935d-ccb78a9f02a1",
   "metadata": {},
   "source": [
    "**Question 2:**<br>\n",
    "Write a program which takes 2 digits, X,Y as input and generates a 2-dimensional array. The element value in the i-th row and j-th column of the array should be i*j. Note: i=0,1.., X-1; j=0,1,¡Y-1.\n",
    "\n",
    "Example<br>\n",
    "Suppose the following inputs are given to the program:<br>\n",
    "3,5<br>\n",
    "Then, the output of the program should be:<br>\n",
    "[[0, 0, 0, 0, 0], [0, 1, 2, 3, 4], [0, 2, 4, 6, 8]]"
   ]
  },
  {
   "cell_type": "code",
   "execution_count": 16,
   "id": "4b1fb7cc-5a08-4102-ab95-3232c15fc233",
   "metadata": {},
   "outputs": [
    {
     "name": "stdin",
     "output_type": "stream",
     "text": [
      "Enter x:  3\n",
      "Enter y:  5\n"
     ]
    },
    {
     "name": "stdout",
     "output_type": "stream",
     "text": [
      "[[0 0 0 0 0]\n",
      " [0 1 2 3 4]\n",
      " [0 2 4 6 8]]\n"
     ]
    }
   ],
   "source": [
    "import numpy as np\n",
    "x= int(input('Enter x: '))\n",
    "y= int(input('Enter y: '))\n",
    "\n",
    "a = np.zeros((x,y), int)\n",
    "for i in range (x):\n",
    "    for j in range (y):\n",
    "        a[i][j]=i*j\n",
    "print(a)"
   ]
  },
  {
   "cell_type": "markdown",
   "id": "75eac25d-e0fe-42fd-8214-f37778e5c6fe",
   "metadata": {},
   "source": [
    "**Question 3:**<br>\n",
    "Write a program that accepts a comma separated sequence of words as input and prints the words in a comma-separated sequence after sorting them alphabetically. Suppose the following input is supplied to the program:<br>\n",
    "without,hello,bag,world<br>\n",
    "Then, the output should be:<br>\n",
    "bag,hello,without,world"
   ]
  },
  {
   "cell_type": "code",
   "execution_count": 21,
   "id": "84fea6d6-532b-46bd-afde-196bddaf05e8",
   "metadata": {},
   "outputs": [
    {
     "name": "stdin",
     "output_type": "stream",
     "text": [
      "Enter words:  viresh, raj, sah\n"
     ]
    },
    {
     "name": "stdout",
     "output_type": "stream",
     "text": [
      "raj sah viresh\n"
     ]
    }
   ],
   "source": [
    "print(*sorted(tuple(re.split(r'\\s*\\,\\s*', input('Enter words: ')))))"
   ]
  },
  {
   "cell_type": "markdown",
   "id": "1acec046-0898-4b30-91df-dd87224024d1",
   "metadata": {},
   "source": [
    "**Question 4:**<br>\n",
    "Write a program that accepts a sequence of whitespace separated words as input and prints the words after removing all duplicate words and sorting them alphanumerically. Suppose the following input is supplied to the program:<br>\n",
    "hello world and practice makes perfect and hello world again<br>\n",
    "Then, the output should be:<br>\n",
    "again and hello makes perfect practice world"
   ]
  },
  {
   "cell_type": "code",
   "execution_count": 26,
   "id": "6c93b322-9f29-4f87-b490-ee5aed1bbdec",
   "metadata": {},
   "outputs": [
    {
     "name": "stdin",
     "output_type": "stream",
     "text": [
      "Enter sentence:  hello world and practice makes perfect and hello world again\n"
     ]
    },
    {
     "name": "stdout",
     "output_type": "stream",
     "text": [
      "again and hello makes perfect practice world\n"
     ]
    }
   ],
   "source": [
    "print(*sorted(set(re.split(r'\\s+', input('Enter sentence: ')))))"
   ]
  },
  {
   "cell_type": "markdown",
   "id": "13b78936-8327-4f51-8afa-0d22c05215c9",
   "metadata": {},
   "source": [
    "**Question 5:**<br>\n",
    "Write a program that accepts a sentence and calculate the number of letters and digits. Suppose the following input is supplied to the program:<br>\n",
    "hello world! 123\n",
    "\n",
    "Then, the output should be:<br>\n",
    "LETTERS 10<br>\n",
    "DIGITS 3"
   ]
  },
  {
   "cell_type": "code",
   "execution_count": 29,
   "id": "5f00bc5a-7ff2-4d41-b8bb-42d6f7778bfe",
   "metadata": {},
   "outputs": [
    {
     "name": "stdin",
     "output_type": "stream",
     "text": [
      "Enter sentence:  windows 10\n"
     ]
    },
    {
     "name": "stdout",
     "output_type": "stream",
     "text": [
      "LETTERS 7\n",
      "DIGITS 2\n"
     ]
    }
   ],
   "source": [
    "s=input('Enter sentence: ')\n",
    "print('LETTERS',len([i for i in s if i.isalpha()]))\n",
    "print('DIGITS',len([i for i in s if i.isnumeric()]))"
   ]
  },
  {
   "cell_type": "markdown",
   "id": "097eb617-ab1a-4310-b822-06ebc4df5ae2",
   "metadata": {},
   "source": [
    "**Question 6:**<br>\n",
    "A website requires the users to input username and password to register. Write a program to check the validity of password input by users.<br>\n",
    "Following are the criteria for checking the password:<br>\n",
    "1. At least 1 letter between [a-z]\n",
    "2. At least 1 number between [0-9]\n",
    "1. At least 1 letter between [A-Z]\n",
    "3. At least 1 character from [$#@]\n",
    "4. Minimum length of transaction password: 6\n",
    "5. Maximum length of transaction password: 12\n",
    "\n",
    "Your program should accept a sequence of comma separated passwords and will check them according to the above criteria. Passwords that match the criteria are to be printed, each separated by a comma.\n",
    "\n",
    "Example:<br>\n",
    "If the following passwords are given as input to the program:<br>\n",
    "ABd1234@1,a F1#,2w3E*,2We3345<br>\n",
    "Then, the output of the program should be:<br>\n",
    "ABd1234@1"
   ]
  },
  {
   "cell_type": "code",
   "execution_count": 31,
   "id": "ff07c8d4-ba2a-47ff-bb4b-321540607847",
   "metadata": {},
   "outputs": [
    {
     "name": "stdin",
     "output_type": "stream",
     "text": [
      "Enter passwords:  ABd1234@1,a F1#,2w3E*,2We3345\n"
     ]
    },
    {
     "name": "stdout",
     "output_type": "stream",
     "text": [
      "ABd1234@1\n"
     ]
    }
   ],
   "source": [
    "def is_correct_password(s):\n",
    "    minlen=len(s)>=6\n",
    "    maxlen=len(s)<=12\n",
    "    hassmall=len(re.findall(r'([a-z])',s))>=1\n",
    "    hascaps=len(re.findall(r'([A-Z])',s))>=1\n",
    "    hassplchar=len(re.findall(r'([$#@])',s))>=1\n",
    "    if minlen and maxlen and hassmall and hascaps and hassplchar:\n",
    "        return s\n",
    "\n",
    "d= re.split(r'\\s*\\,\\s*', input('Enter passwords: '))\n",
    "print (*[i for i in d if is_correct_password(i)])"
   ]
  }
 ],
 "metadata": {
  "kernelspec": {
   "display_name": "Python 3 (ipykernel)",
   "language": "python",
   "name": "python3"
  },
  "language_info": {
   "codemirror_mode": {
    "name": "ipython",
    "version": 3
   },
   "file_extension": ".py",
   "mimetype": "text/x-python",
   "name": "python",
   "nbconvert_exporter": "python",
   "pygments_lexer": "ipython3",
   "version": "3.10.6"
  }
 },
 "nbformat": 4,
 "nbformat_minor": 5
}
